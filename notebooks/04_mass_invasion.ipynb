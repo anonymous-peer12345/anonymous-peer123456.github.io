{
 "cells": [
  {
   "cell_type": "markdown",
   "id": "92418f95-2ed3-4f91-a2ec-7da24d2b1f48",
   "metadata": {},
   "source": [
    "<div style=\"width: 100%;text-align:right;display: flex; align-items: top;\">\n",
    "    <div style=\"float: left;width: 80%;text-align:left\">\n",
    "        <h1>Mass invasion: Temporal patterns for 9 Instagram vantage points in Europe<a class=\"tocSkip\">&#182;</a></h1>\n",
    "        <p><em><a href=\"mailto:alexander.dunkel@tu-dresden.de\">Alexander Dunkel</a>, Institute of Cartography, TU Dresden</em></p></div>\n",
    "    <div style=\"width:256px;text-align:right;margin-top:0px;margin-right:10px\"><a href=\"https://gitlab.hrz.tu-chemnitz.de/ad/ephemeral_events\"><img src=\"https://kartographie.geo.tu-dresden.de/ad/wip/ephemeral_events/version.svg\"></a></div>\n",
    "</div>"
   ]
  },
  {
   "cell_type": "code",
   "execution_count": 298,
   "id": "3ee48ca7-c9d5-4dab-9c86-a35562971eed",
   "metadata": {
    "editable": true,
    "jupyter": {
     "source_hidden": true
    },
    "slideshow": {
     "slide_type": ""
    },
    "tags": [
     "hide_code"
    ]
   },
   "outputs": [
    {
     "data": {
      "text/markdown": [
       "Last updated: Apr-12-2024, [Carto-Lab Docker](https://gitlab.vgiscience.de/lbsn/tools/jupyterlab) Version 0.14.0"
      ],
      "text/plain": [
       "<IPython.core.display.Markdown object>"
      ]
     },
     "execution_count": 298,
     "metadata": {},
     "output_type": "execute_result"
    }
   ],
   "source": [
    "from IPython.display import Markdown as md\n",
    "from datetime import date\n",
    "\n",
    "today = date.today()\n",
    "with open('/.version', 'r') as file: app_version = file.read().split(\"'\")[1]\n",
    "md(f\"Last updated: {today.strftime('%b-%d-%Y')}, [Carto-Lab Docker](https://gitlab.vgiscience.de/lbsn/tools/jupyterlab) Version {app_version}\")"
   ]
  },
  {
   "cell_type": "markdown",
   "id": "12569cbb-0a01-4ed1-a985-115846c036ac",
   "metadata": {},
   "source": [
    "<div style=\"width:500px\">\n",
    "    \n",
    "Visualizations of temporal patterns for ephemeral events. This notebook builds upon a  [a previous notebook](https://kartographie.geo.tu-dresden.de/ad/wip/ephemeral_events/html/01_temporal_chi_y.html).\n",
    "\n",
    "The basis for this notebook are 1.6 Million Tweets that were queried with `cherry AND (flower OR blossom OR sakura)`. The query contains both geotagged and non-geotagged content.\n",
    "\n",
    "A second query with the same syntax was prepared for Flickr. For Flickr, only geotagged content was considered. This selected `100662` Flickr photographs.\n",
    "\n",
    "The query period covered for both was `2007` to `2017`.\n",
    "</div>"
   ]
  },
  {
   "cell_type": "markdown",
   "id": "79d91e0f-4a96-40ce-b717-e01048f90152",
   "metadata": {},
   "source": [
    "# Preparations"
   ]
  },
  {
   "cell_type": "code",
   "execution_count": 537,
   "id": "6a7494d4-b339-465f-8be9-5a3054891dc3",
   "metadata": {
    "editable": true,
    "slideshow": {
     "slide_type": ""
    },
    "tags": [
     "hide_code"
    ]
   },
   "outputs": [],
   "source": [
    "import sys, os\n",
    "import math\n",
    "import numpy as np\n",
    "import pandas as pd\n",
    "import psycopg2\n",
    "import warnings\n",
    "import statsmodels.api as sm\n",
    "import matplotlib.pyplot as plt\n",
    "import matplotlib.colors as mcolor\n",
    "import matplotlib.ticker as mticker\n",
    "from matplotlib.patches import Patch\n",
    "import matplotlib.dates as mdates\n",
    "import matplotlib.patches as mpatches\n",
    "import seaborn as sns\n",
    "from matplotlib.axes import Axes \n",
    "from matplotlib import cm\n",
    "from warnings import warn\n",
    "from typing import Tuple, Dict, Any\n",
    "from pathlib import Path\n",
    "from python_hll.hll import HLL\n",
    "from python_hll.util import NumberUtil\n",
    "from shapely.geometry import box\n",
    "module_path = str(Path.cwd().parents[0] / \"py\")\n",
    "if module_path not in sys.path:\n",
    "    sys.path.append(module_path)\n",
    "from modules.base import tools, hll"
   ]
  },
  {
   "cell_type": "code",
   "execution_count": 2,
   "id": "489f7e34-3594-4d0a-b970-bed311d2a227",
   "metadata": {
    "tags": []
   },
   "outputs": [],
   "source": [
    "OUTPUT = Path.cwd().parents[0] / \"out\"       # output directory for figures (etc.)\n",
    "WORK_DIR = Path.cwd().parents[0] / \"tmp\"     # Working directory"
   ]
  },
  {
   "cell_type": "code",
   "execution_count": 3,
   "id": "aa890cf9-16b6-45f1-876e-bb0005a59673",
   "metadata": {
    "tags": []
   },
   "outputs": [],
   "source": [
    "OUTPUT.mkdir(exist_ok=True)\n",
    "(OUTPUT / \"figures\").mkdir(exist_ok=True)\n",
    "(OUTPUT / \"svg\").mkdir(exist_ok=True)\n",
    "WORK_DIR.mkdir(exist_ok=True)"
   ]
  },
  {
   "cell_type": "code",
   "execution_count": 4,
   "id": "1e73d777-fc2f-425a-9f54-02fbd71009af",
   "metadata": {
    "tags": []
   },
   "outputs": [],
   "source": [
    "%load_ext autoreload\n",
    "%autoreload 2"
   ]
  },
  {
   "cell_type": "markdown",
   "id": "56dd4408-6b3f-441e-982e-1c56fbaa6adc",
   "metadata": {},
   "source": [
    "Select `M` for monthly aggregation, `Y` for yearly aggregation"
   ]
  },
  {
   "cell_type": "code",
   "execution_count": 5,
   "id": "f2c8b6e5-e771-43b0-8ea8-76420006a5de",
   "metadata": {},
   "outputs": [],
   "source": [
    "AGG_BASE = \"M\""
   ]
  },
  {
   "cell_type": "markdown",
   "id": "bb0e33c1-6562-4c69-b578-c2383ddd8785",
   "metadata": {},
   "source": [
    "First, define whether to study usercount or postcount"
   ]
  },
  {
   "cell_type": "code",
   "execution_count": 6,
   "id": "f2bb9a9f-937d-4d50-abe4-71135cfa90fd",
   "metadata": {
    "editable": true,
    "slideshow": {
     "slide_type": ""
    },
    "tags": [
     "highlight"
    ]
   },
   "outputs": [],
   "source": [
    "# METRIC = 'user'\n",
    "METRIC = 'post'"
   ]
  },
  {
   "cell_type": "code",
   "execution_count": 7,
   "id": "00c1a798-95f8-4537-9d08-2489e6e4c13c",
   "metadata": {},
   "outputs": [],
   "source": [
    "metric_col = 'post_hll'\n",
    "if METRIC == 'user':\n",
    "    metric_col = 'user_hll'"
   ]
  },
  {
   "cell_type": "markdown",
   "id": "fdaf355b-0ac6-4830-b2ae-aea7c7ea2fe0",
   "metadata": {},
   "source": [
    "Set global font"
   ]
  },
  {
   "cell_type": "code",
   "execution_count": 8,
   "id": "09e75d8e-ef6b-4cf4-a389-9d178f66ccd0",
   "metadata": {},
   "outputs": [],
   "source": [
    "plt.rcParams['font.family'] = 'serif'\n",
    "plt.rcParams['font.serif'] = ['Times New Roman'] + plt.rcParams['font.serif']"
   ]
  },
  {
   "cell_type": "markdown",
   "id": "c8b877df-0ce9-4152-88a4-ad8b1c9b3b93",
   "metadata": {},
   "source": [
    "## Load HLL aggregate data\n",
    "\n",
    "Load the data from CSV, generated in the previous notebook. Data is stored as aggregate HLL data (postcount, usercount) for each month."
   ]
  },
  {
   "cell_type": "code",
   "execution_count": 9,
   "id": "2cfae5ff-0dba-4656-a20e-72abee31a79d",
   "metadata": {
    "editable": true,
    "slideshow": {
     "slide_type": ""
    },
    "tags": [
     "hide_code"
    ]
   },
   "outputs": [],
   "source": [
    "FLICKR_CHERRY_ALL = OUTPUT / \"flickr_cherries_hll.csv\""
   ]
  },
  {
   "cell_type": "code",
   "execution_count": 10,
   "id": "2dbba376-d668-4ddb-9083-b0103cee66f2",
   "metadata": {
    "tags": []
   },
   "outputs": [
    {
     "data": {
      "text/html": [
       "<style type=\"text/css\">\n",
       "</style>\n",
       "<table id=\"T_378e0\">\n",
       "  <thead>\n",
       "    <tr>\n",
       "      <th class=\"index_name level0\" >name</th>\n",
       "      <th id=\"T_378e0_level0_col0\" class=\"col_heading level0 col0\" >FLICKR_CHERRY_ALL</th>\n",
       "    </tr>\n",
       "  </thead>\n",
       "  <tbody>\n",
       "    <tr>\n",
       "      <th id=\"T_378e0_level0_row0\" class=\"row_heading level0 row0\" >size</th>\n",
       "      <td id=\"T_378e0_row0_col0\" class=\"data row0 col0\" >180.23 KB</td>\n",
       "    </tr>\n",
       "    <tr>\n",
       "      <th id=\"T_378e0_level0_row1\" class=\"row_heading level0 row1\" >records</th>\n",
       "      <td id=\"T_378e0_row1_col0\" class=\"data row1 col0\" >188</td>\n",
       "    </tr>\n",
       "  </tbody>\n",
       "</table>\n"
      ],
      "text/plain": [
       "<pandas.io.formats.style.Styler at 0x7fa0087ea370>"
      ]
     },
     "metadata": {},
     "output_type": "display_data"
    },
    {
     "name": "stdout",
     "output_type": "stream",
     "text": [
      "CPU times: user 25.5 ms, sys: 4.59 ms, total: 30.1 ms\n",
      "Wall time: 29.2 ms\n"
     ]
    }
   ],
   "source": [
    "%%time\n",
    "data_files = {\n",
    "    \"FLICKR_CHERRY_ALL\":FLICKR_CHERRY_ALL, \n",
    "    }\n",
    "tools.display_file_stats(data_files)"
   ]
  },
  {
   "cell_type": "code",
   "execution_count": 12,
   "id": "6c023c43-6c1b-4161-9115-71aeae2cf436",
   "metadata": {
    "tags": []
   },
   "outputs": [
    {
     "data": {
      "text/html": [
       "<div>\n",
       "<style scoped>\n",
       "    .dataframe tbody tr th:only-of-type {\n",
       "        vertical-align: middle;\n",
       "    }\n",
       "\n",
       "    .dataframe tbody tr th {\n",
       "        vertical-align: top;\n",
       "    }\n",
       "\n",
       "    .dataframe thead th {\n",
       "        text-align: right;\n",
       "    }\n",
       "</style>\n",
       "<table border=\"1\" class=\"dataframe\">\n",
       "  <thead>\n",
       "    <tr style=\"text-align: right;\">\n",
       "      <th></th>\n",
       "      <th>year</th>\n",
       "      <th>month</th>\n",
       "      <th>post_hll</th>\n",
       "      <th>user_hll</th>\n",
       "    </tr>\n",
       "  </thead>\n",
       "  <tbody>\n",
       "    <tr>\n",
       "      <th>0</th>\n",
       "      <td>2007</td>\n",
       "      <td>1</td>\n",
       "      <td>\\x138b400023038106e109820b210b41124115c116411b...</td>\n",
       "      <td>\\x138b400ea10f441ba5200128a12a623a233be15c4265...</td>\n",
       "    </tr>\n",
       "    <tr>\n",
       "      <th>1</th>\n",
       "      <td>2007</td>\n",
       "      <td>2</td>\n",
       "      <td>\\x138b4004a30ae22d612e83308241a14ea25021504253...</td>\n",
       "      <td>\\x138b4019812262246133413d423d8140a445635dc25f...</td>\n",
       "    </tr>\n",
       "    <tr>\n",
       "      <th>2</th>\n",
       "      <td>2007</td>\n",
       "      <td>3</td>\n",
       "      <td>\\x148b400040108c0100000100010040110c6000c00000...</td>\n",
       "      <td>\\x138b400327058206610a220aa30b860ba70cc10ce30f...</td>\n",
       "    </tr>\n",
       "    <tr>\n",
       "      <th>3</th>\n",
       "      <td>2007</td>\n",
       "      <td>4</td>\n",
       "      <td>\\x148b401046008c2008c02084441880008cc100820108...</td>\n",
       "      <td>\\x138b40000101610183030103a303e20482050305e106...</td>\n",
       "    </tr>\n",
       "    <tr>\n",
       "      <th>4</th>\n",
       "      <td>2007</td>\n",
       "      <td>5</td>\n",
       "      <td>\\x138b40010301e304c404e40546066209a10fa2114312...</td>\n",
       "      <td>\\x138b4000a3042106c115c1182319031a821d241e0121...</td>\n",
       "    </tr>\n",
       "    <tr>\n",
       "      <th>5</th>\n",
       "      <td>2007</td>\n",
       "      <td>6</td>\n",
       "      <td>\\x138b4007e608e1112216e123a136a13d0242044a6153...</td>\n",
       "      <td>\\x138b401b471d242561554358425a816e2373c295c2a0...</td>\n",
       "    </tr>\n",
       "    <tr>\n",
       "      <th>6</th>\n",
       "      <td>2007</td>\n",
       "      <td>7</td>\n",
       "      <td>\\x138b4006c10d02134115a11a211a811c831cc3238223...</td>\n",
       "      <td>\\x138b4009410d4722c124a33123414442e14481548159...</td>\n",
       "    </tr>\n",
       "    <tr>\n",
       "      <th>7</th>\n",
       "      <td>2007</td>\n",
       "      <td>8</td>\n",
       "      <td>\\x138b40176153058ac39de1ad21ae44bac1c301c8c1c9...</td>\n",
       "      <td>\\x138b402b414ea16b6172e77a219683aec2be22c7a1d681</td>\n",
       "    </tr>\n",
       "    <tr>\n",
       "      <th>8</th>\n",
       "      <td>2007</td>\n",
       "      <td>9</td>\n",
       "      <td>\\x138b4003e2088240615d2160626122624271e178e584...</td>\n",
       "      <td>\\x138b400a6719c223812f6158e28725a601aee3b8e2d4...</td>\n",
       "    </tr>\n",
       "    <tr>\n",
       "      <th>9</th>\n",
       "      <td>2007</td>\n",
       "      <td>10</td>\n",
       "      <td>\\x138b400be117421da12b453e62612181829aa1a342b9...</td>\n",
       "      <td>\\x138b400402182546a1718186019781aac1b541bf63c2...</td>\n",
       "    </tr>\n",
       "  </tbody>\n",
       "</table>\n",
       "</div>"
      ],
      "text/plain": [
       "   year  month                                           post_hll  \\\n",
       "0  2007      1  \\x138b400023038106e109820b210b41124115c116411b...   \n",
       "1  2007      2  \\x138b4004a30ae22d612e83308241a14ea25021504253...   \n",
       "2  2007      3  \\x148b400040108c0100000100010040110c6000c00000...   \n",
       "3  2007      4  \\x148b401046008c2008c02084441880008cc100820108...   \n",
       "4  2007      5  \\x138b40010301e304c404e40546066209a10fa2114312...   \n",
       "5  2007      6  \\x138b4007e608e1112216e123a136a13d0242044a6153...   \n",
       "6  2007      7  \\x138b4006c10d02134115a11a211a811c831cc3238223...   \n",
       "7  2007      8  \\x138b40176153058ac39de1ad21ae44bac1c301c8c1c9...   \n",
       "8  2007      9  \\x138b4003e2088240615d2160626122624271e178e584...   \n",
       "9  2007     10  \\x138b400be117421da12b453e62612181829aa1a342b9...   \n",
       "\n",
       "                                            user_hll  \n",
       "0  \\x138b400ea10f441ba5200128a12a623a233be15c4265...  \n",
       "1  \\x138b4019812262246133413d423d8140a445635dc25f...  \n",
       "2  \\x138b400327058206610a220aa30b860ba70cc10ce30f...  \n",
       "3  \\x138b40000101610183030103a303e20482050305e106...  \n",
       "4  \\x138b4000a3042106c115c1182319031a821d241e0121...  \n",
       "5  \\x138b401b471d242561554358425a816e2373c295c2a0...  \n",
       "6  \\x138b4009410d4722c124a33123414442e14481548159...  \n",
       "7   \\x138b402b414ea16b6172e77a219683aec2be22c7a1d681  \n",
       "8  \\x138b400a6719c223812f6158e28725a601aee3b8e2d4...  \n",
       "9  \\x138b400402182546a1718186019781aac1b541bf63c2...  "
      ]
     },
     "execution_count": 12,
     "metadata": {},
     "output_type": "execute_result"
    }
   ],
   "source": [
    "pd.read_csv(FLICKR_CHERRY_ALL, nrows=10)"
   ]
  },
  {
   "cell_type": "markdown",
   "id": "1eced472-84bb-4a3a-8988-971ab333254d",
   "metadata": {
    "tags": []
   },
   "source": [
    "## Connect hll worker db"
   ]
  },
  {
   "cell_type": "code",
   "execution_count": 13,
   "id": "ebdf71fd-acb7-4ecc-aeea-052ce588861e",
   "metadata": {
    "tags": []
   },
   "outputs": [],
   "source": [
    "DB_USER = \"hlluser\"\n",
    "DB_PASS = os.getenv('READONLY_USER_PASSWORD')\n",
    "# set connection variables\n",
    "DB_HOST = \"127.0.0.1\"\n",
    "DB_PORT = \"5452\"\n",
    "DB_NAME = \"hllworkerdb\""
   ]
  },
  {
   "cell_type": "markdown",
   "id": "d8bbd371-552f-4c03-acf2-fd3767e5cd39",
   "metadata": {},
   "source": [
    "Connect to empty Postgres database running HLL Extension:"
   ]
  },
  {
   "cell_type": "code",
   "execution_count": 14,
   "id": "89167c0b-1221-49fd-92e7-5081d8a31ad9",
   "metadata": {
    "tags": []
   },
   "outputs": [],
   "source": [
    "DB_CONN = psycopg2.connect(\n",
    "        host=DB_HOST,\n",
    "        port=DB_PORT ,\n",
    "        dbname=DB_NAME,\n",
    "        user=DB_USER,\n",
    "        password=DB_PASS\n",
    ")\n",
    "DB_CONN.set_session(\n",
    "    readonly=True)\n",
    "DB_CALC = tools.DbConn(\n",
    "    DB_CONN)\n",
    "CUR_HLL = DB_CONN.cursor()"
   ]
  },
  {
   "cell_type": "markdown",
   "id": "eb59e8cb-e4eb-4ab3-8075-a3ea4e62ad87",
   "metadata": {},
   "source": [
    "test"
   ]
  },
  {
   "cell_type": "markdown",
   "id": "2b12dae8-340f-432b-8247-90e83f72ded6",
   "metadata": {},
   "source": [
    "# Calculate HLL Cardinality per month and year"
   ]
  },
  {
   "cell_type": "markdown",
   "id": "df81c53a-af69-41ee-b7a8-6cd448c16076",
   "metadata": {},
   "source": [
    "Define additional functions for reading and formatting CSV as `pd.DataFrame`"
   ]
  },
  {
   "cell_type": "code",
   "execution_count": 382,
   "id": "0ed3603b-4e38-4945-b462-b88c162db84d",
   "metadata": {
    "tags": []
   },
   "outputs": [],
   "source": [
    "from datetime import datetime\n",
    "\n",
    "def read_csv_datetime(csv: Path) -> pd.DataFrame:\n",
    "    \"\"\"Read CSV with parsing datetime index (months)\n",
    "    \n",
    "        First CSV column: Year\n",
    "        Second CSV column: Month\n",
    "    \"\"\"\n",
    "    date_cols = [\"year\", \"month\"]\n",
    "    df = pd.read_csv(\n",
    "        csv, index_col='datetime', \n",
    "        parse_dates={'datetime':date_cols},\n",
    "        date_format='%Y %m',\n",
    "        keep_date_col='False')\n",
    "    df.drop(columns=date_cols, inplace=True)\n",
    "    return df\n",
    "    \n",
    "def append_cardinality_df(df: pd.DataFrame, hll_col: str = \"post_hll\", cardinality_col: str = 'postcount_est'):\n",
    "    \"\"\"Calculate cardinality from HLL and append to extra column in df\"\"\"\n",
    "    df[cardinality_col] = df.apply(\n",
    "        lambda x: hll.cardinality_hll(\n",
    "           x[hll_col], CUR_HLL),\n",
    "        axis=1)\n",
    "    df.drop(columns=[hll_col], inplace=True)\n",
    "    return df\n",
    "\n",
    "def filter_fill_time(\n",
    "        df: pd.DataFrame, min_year: int, \n",
    "        max_year: int, val_col: str = \"postcount_est\",\n",
    "        min_month: str = \"01\", max_month: str = \"01\", agg_base: str = None,\n",
    "        agg_method = None):\n",
    "    \"\"\"Filter time values between min - max year and fill missing values\"\"\"\n",
    "    max_day = \"01\"\n",
    "    if agg_base is None:\n",
    "        agg_base = \"M\"\n",
    "    elif agg_base == \"Y\":\n",
    "        max_month = \"12\"\n",
    "        max_day = \"31\"\n",
    "    min_date = pd.Timestamp(f'{min_year}-{min_month}-01')\n",
    "    max_date = pd.Timestamp(f'{max_year}-{max_month}-{max_day}')\n",
    "    # clip by start and end date\n",
    "    if not min_date in df.index:\n",
    "        df.loc[min_date, val_col] = 0\n",
    "    if not max_date in df.index:\n",
    "        df.loc[max_date, val_col] = 0\n",
    "    df.sort_index(inplace=True)\n",
    "    # mask min and max time\n",
    "    time_mask = ((df.index >= min_date) & (df.index <= max_date))\n",
    "    resampled = df.loc[time_mask][val_col].resample(agg_base)\n",
    "    if agg_method is None:\n",
    "        series = resampled.sum()\n",
    "    elif agg_method == \"count\":\n",
    "        series = resampled.count()\n",
    "    elif agg_method == \"nunique\":\n",
    "        series = resampled.nunique()\n",
    "    # fill missing months with 0\n",
    "    # this will also set the day to max of month\n",
    "    return series.fillna(0).to_frame()"
   ]
  },
  {
   "cell_type": "markdown",
   "id": "dfcb4ccf-60da-4ceb-b5e4-891378287072",
   "metadata": {},
   "source": [
    "**Select dataset to process below**"
   ]
  },
  {
   "cell_type": "markdown",
   "id": "77a8bdd7-7914-417d-8c56-a38200acd10f",
   "metadata": {},
   "source": [
    "Apply functions to all data sets.\n",
    "\n",
    "- Read from CSV\n",
    "- calculate cardinality\n",
    "- merge year and month to single column\n",
    "- filter 2007 - 2018 range, fill missing values"
   ]
  },
  {
   "cell_type": "code",
   "execution_count": 16,
   "id": "76631966-dd36-4c8a-8a80-d328ff43599a",
   "metadata": {},
   "outputs": [],
   "source": [
    "def process_dataset(\n",
    "        dataset: Path = None, metric: str = None, df_post: pd.DataFrame = None,\n",
    "        min_year: int = None, max_year: int = None, agg_base: str = None) -> pd.DataFrame:\n",
    "    \"\"\"Apply temporal filter/pre-processing to all data sets.\"\"\"\n",
    "    if metric is None:\n",
    "        metric = 'post_hll'\n",
    "        warn(f\"Using default value {metric}\")\n",
    "    if metric == 'post_hll':\n",
    "        cardinality_col = 'postcount_est'\n",
    "    else:\n",
    "        cardinality_col = 'usercount_est'\n",
    "    if min_year is None:\n",
    "        min_year = 2007\n",
    "    if max_year is None:\n",
    "        max_year = 2017\n",
    "    if df_post is None:\n",
    "        df_post = read_csv_datetime(dataset)\n",
    "    df_post = append_cardinality_df(df_post, metric, cardinality_col)\n",
    "    return filter_fill_time(df_post, min_year, max_year, cardinality_col, agg_base=agg_base)"
   ]
  },
  {
   "cell_type": "code",
   "execution_count": 17,
   "id": "e93ae57a-ef1d-4223-b515-357bc357d21c",
   "metadata": {
    "tags": []
   },
   "outputs": [
    {
     "name": "stdout",
     "output_type": "stream",
     "text": [
      "CPU times: user 21.2 ms, sys: 2.01 ms, total: 23.2 ms\n",
      "Wall time: 44.5 ms\n"
     ]
    }
   ],
   "source": [
    "%%time\n",
    "df_post = process_dataset(FLICKR_CHERRY_ALL, agg_base=AGG_BASE, metric='post_hll')"
   ]
  },
  {
   "cell_type": "code",
   "execution_count": 18,
   "id": "a98b311a-d5d1-4966-94c9-14be5db1bf4f",
   "metadata": {
    "tags": []
   },
   "outputs": [
    {
     "data": {
      "text/html": [
       "<div>\n",
       "<style scoped>\n",
       "    .dataframe tbody tr th:only-of-type {\n",
       "        vertical-align: middle;\n",
       "    }\n",
       "\n",
       "    .dataframe tbody tr th {\n",
       "        vertical-align: top;\n",
       "    }\n",
       "\n",
       "    .dataframe thead th {\n",
       "        text-align: right;\n",
       "    }\n",
       "</style>\n",
       "<table border=\"1\" class=\"dataframe\">\n",
       "  <thead>\n",
       "    <tr style=\"text-align: right;\">\n",
       "      <th></th>\n",
       "      <th>postcount_est</th>\n",
       "    </tr>\n",
       "    <tr>\n",
       "      <th>datetime</th>\n",
       "      <th></th>\n",
       "    </tr>\n",
       "  </thead>\n",
       "  <tbody>\n",
       "    <tr>\n",
       "      <th>2007-01-31</th>\n",
       "      <td>86</td>\n",
       "    </tr>\n",
       "    <tr>\n",
       "      <th>2007-02-28</th>\n",
       "      <td>51</td>\n",
       "    </tr>\n",
       "    <tr>\n",
       "      <th>2007-03-31</th>\n",
       "      <td>1078</td>\n",
       "    </tr>\n",
       "    <tr>\n",
       "      <th>2007-04-30</th>\n",
       "      <td>1852</td>\n",
       "    </tr>\n",
       "    <tr>\n",
       "      <th>2007-05-31</th>\n",
       "      <td>186</td>\n",
       "    </tr>\n",
       "  </tbody>\n",
       "</table>\n",
       "</div>"
      ],
      "text/plain": [
       "            postcount_est\n",
       "datetime                 \n",
       "2007-01-31             86\n",
       "2007-02-28             51\n",
       "2007-03-31           1078\n",
       "2007-04-30           1852\n",
       "2007-05-31            186"
      ]
     },
     "execution_count": 18,
     "metadata": {},
     "output_type": "execute_result"
    }
   ],
   "source": [
    "df_post.head(5)"
   ]
  },
  {
   "cell_type": "code",
   "execution_count": 19,
   "id": "ea904757-3e6a-43d3-88c1-a444d3fd366b",
   "metadata": {
    "tags": []
   },
   "outputs": [
    {
     "name": "stdout",
     "output_type": "stream",
     "text": [
      "CPU times: user 21.3 ms, sys: 0 ns, total: 21.3 ms\n",
      "Wall time: 51.1 ms\n"
     ]
    }
   ],
   "source": [
    "%%time\n",
    "df_user = process_dataset(FLICKR_CHERRY_ALL, metric=metric_col, agg_base=AGG_BASE)"
   ]
  },
  {
   "cell_type": "code",
   "execution_count": 20,
   "id": "a0944180-26f9-4e6d-a854-385c5d173b79",
   "metadata": {
    "tags": []
   },
   "outputs": [
    {
     "data": {
      "text/html": [
       "<div>\n",
       "<style scoped>\n",
       "    .dataframe tbody tr th:only-of-type {\n",
       "        vertical-align: middle;\n",
       "    }\n",
       "\n",
       "    .dataframe tbody tr th {\n",
       "        vertical-align: top;\n",
       "    }\n",
       "\n",
       "    .dataframe thead th {\n",
       "        text-align: right;\n",
       "    }\n",
       "</style>\n",
       "<table border=\"1\" class=\"dataframe\">\n",
       "  <thead>\n",
       "    <tr style=\"text-align: right;\">\n",
       "      <th></th>\n",
       "      <th>postcount_est</th>\n",
       "    </tr>\n",
       "    <tr>\n",
       "      <th>datetime</th>\n",
       "      <th></th>\n",
       "    </tr>\n",
       "  </thead>\n",
       "  <tbody>\n",
       "    <tr>\n",
       "      <th>2007-01-31</th>\n",
       "      <td>86</td>\n",
       "    </tr>\n",
       "    <tr>\n",
       "      <th>2007-02-28</th>\n",
       "      <td>51</td>\n",
       "    </tr>\n",
       "    <tr>\n",
       "      <th>2007-03-31</th>\n",
       "      <td>1078</td>\n",
       "    </tr>\n",
       "    <tr>\n",
       "      <th>2007-04-30</th>\n",
       "      <td>1852</td>\n",
       "    </tr>\n",
       "    <tr>\n",
       "      <th>2007-05-31</th>\n",
       "      <td>186</td>\n",
       "    </tr>\n",
       "  </tbody>\n",
       "</table>\n",
       "</div>"
      ],
      "text/plain": [
       "            postcount_est\n",
       "datetime                 \n",
       "2007-01-31             86\n",
       "2007-02-28             51\n",
       "2007-03-31           1078\n",
       "2007-04-30           1852\n",
       "2007-05-31            186"
      ]
     },
     "execution_count": 20,
     "metadata": {},
     "output_type": "execute_result"
    }
   ],
   "source": [
    "df_user.head(5)"
   ]
  },
  {
   "cell_type": "markdown",
   "id": "158d0150-64fb-41ec-bc91-236a4b4b4360",
   "metadata": {},
   "source": [
    "# Visualize Cardinality"
   ]
  },
  {
   "cell_type": "markdown",
   "id": "3884d5a6-448a-4fb6-94d6-02fde7551e35",
   "metadata": {},
   "source": [
    "## Flickr"
   ]
  },
  {
   "cell_type": "markdown",
   "id": "403b6b0d-c778-4845-b26d-63c29f5f333c",
   "metadata": {},
   "source": [
    "Define plot function."
   ]
  },
  {
   "cell_type": "code",
   "execution_count": 499,
   "id": "6d43af9b-a588-4451-8f59-c8d15a6dd9bf",
   "metadata": {
    "tags": []
   },
   "outputs": [],
   "source": [
    "def fill_plot_time(\n",
    "        df: pd.DataFrame, ax: Axes, color: str,\n",
    "        label: str, val_col: str = \"postcount_est\") -> Axes:\n",
    "    \"\"\"Matplotlib Barplot with time axis formatting\n",
    "\n",
    "    If \"significant\" in df columns, applies different colors to fill/edge\n",
    "    of non-significant values.\n",
    "    \"\"\"\n",
    "    if color is None:\n",
    "        colors = sns.color_palette(\"vlag\", as_cmap=True, n_colors=2)\n",
    "        color_rgba = colors([1.0])[0]\n",
    "        color = mcolor.rgb2hex((color_rgba), keep_alpha=True)\n",
    "    color_significant = color\n",
    "    color_significant_edge = \"white\"\n",
    "    if \"significant\" in df.columns:\n",
    "        colors_bar = {True: color, False: \"white\"}\n",
    "        color_significant = df['significant'].replace(colors_bar)\n",
    "        colors_edge = {True: \"white\", False: \"black\"}\n",
    "        color_significant_edge = df['significant'].replace(colors_edge)\n",
    "    df_plot = df.set_index(\n",
    "        df.index.map(lambda s: s.strftime('%Y')))\n",
    "    ax = df_plot.plot(\n",
    "            ax=ax, y=val_col, color=color_significant,\n",
    "            label=label, linewidth=0.5, alpha=0.6)\n",
    "    ax.fill_between(range(len(df_plot.index)), df_plot[val_col], facecolor=color, alpha=0.6)\n",
    "    return ax\n",
    "\n",
    "def plot_time(\n",
    "        df: Tuple[pd.DataFrame, pd.DataFrame], title, color = None, filename = None, \n",
    "        output = OUTPUT, legend: str = \"Postcount\", val_col: str = None,\n",
    "        trend: bool = None, seasonal: bool = None, residual: bool = None,\n",
    "        agg_base: str = None, fig = None, ax = None, return_fig_ax = None):\n",
    "    \"\"\"Create dataframe(s) time plot\"\"\"\n",
    "    x_ticks_every = 12\n",
    "    fig_x = 10\n",
    "    fig_y = 2\n",
    "    font_mod = True\n",
    "    x_label = \"Year\"\n",
    "    linewidth = 3\n",
    "    if agg_base and agg_base == \"Y\":\n",
    "        x_ticks_every = 1\n",
    "        fig_x = 3\n",
    "        fig_y = 1.5\n",
    "        font_mod = True\n",
    "        x_label = \"Year\"\n",
    "        linewidth = 1\n",
    "    if fig is None or ax is None:\n",
    "        fig, ax = plt.subplots()\n",
    "        fig.set_size_inches(fig_x, fig_y)\n",
    "    ylabel = f'{legend}'\n",
    "    if val_col is None:\n",
    "        val_col = f'{legend.lower()}_est'\n",
    "    ax = fill_plot_time(\n",
    "        df=df, ax=ax, color=color, val_col=val_col, label=legend)\n",
    "\n",
    "    # TODO: below is a bit hacky way to format the x-axis;\n",
    "    tick_loc = mticker.MultipleLocator(x_ticks_every)\n",
    "    ax.xaxis.set_major_locator(tick_loc)\n",
    "    ax.tick_params(axis='x', rotation=45, length=0.5)\n",
    "    ax.yaxis.set_major_formatter(mticker.StrMethodFormatter('{x:,.0f}'))\n",
    "    xrange_min_max = range(2006, 2018)\n",
    "    with warnings.catch_warnings():\n",
    "        warnings.simplefilter(\"ignore\")\n",
    "        ax.set_xticklabels(xrange_min_max, rotation=45)\n",
    "    \n",
    "    ax.set(xlabel=x_label, ylabel=ylabel)\n",
    "    ax.spines[\"left\"].set_linewidth(0.25)\n",
    "    ax.spines[\"bottom\"].set_linewidth(0.25)\n",
    "    ax.spines[\"top\"].set_linewidth(0)\n",
    "    ax.spines[\"right\"].set_linewidth(0)\n",
    "    ax.yaxis.set_tick_params(width=0.5)\n",
    "    # remove legend\n",
    "    ax.get_legend().remove()\n",
    "    ax.set_title(title)\n",
    "    ax.set_xlim(-0.5, len(df)-0.5)\n",
    "    ax.set_ylim(bottom=0)\n",
    "    if font_mod:\n",
    "        for item in (\n",
    "            [ax.xaxis.label, ax.title, ax.yaxis.label] +\n",
    "             ax.get_xticklabels() + ax.get_yticklabels()):\n",
    "                item.set_fontsize(8)\n",
    "    # store figure to file\n",
    "    if filename:\n",
    "        fig.savefig(\n",
    "            output / \"figures\" / f\"{filename}.png\", dpi=300, format='PNG',\n",
    "            bbox_inches='tight', pad_inches=1, facecolor=\"white\")\n",
    "        # also save as svg\n",
    "        fig.savefig(\n",
    "            output / \"svg\" / f\"{filename}.svg\", format='svg',\n",
    "            bbox_inches='tight', pad_inches=1, facecolor=\"white\")\n",
    "    if return_fig_ax:\n",
    "        return fig, ax"
   ]
  },
  {
   "cell_type": "code",
   "execution_count": 520,
   "id": "5fb1f6dc-3109-4f50-94df-d9161251409e",
   "metadata": {},
   "outputs": [],
   "source": [
    "def load_and_plot(\n",
    "        dataset: Path = None, metric: str = None, src_ref: str = \"flickr\", colors: cm.colors.ListedColormap = None,\n",
    "        agg_base: str = None, trend: bool = None, return_df: bool = None, df_post: pd.DataFrame = None, return_fig_ax = None):\n",
    "    \"\"\"Load data and plot\"\"\"\n",
    "    if metric is None:\n",
    "        metric = 'post_hll'\n",
    "    if metric == 'post_hll':\n",
    "        metric_label = 'postcount'\n",
    "    else:\n",
    "        metric_label = 'usercount'\n",
    "    if colors is None:\n",
    "        colors = sns.color_palette(\"vlag\", as_cmap=True, n_colors=2)\n",
    "        colors = colors([1.0])\n",
    "    df = process_dataset(dataset, metric=metric, agg_base=agg_base, df_post=df_post)\n",
    "    fig, ax = plot_time(\n",
    "        df, legend=metric_label.capitalize(), color=colors,\n",
    "        title=f'{src_ref}', \n",
    "        filename=f\"temporal_{metric_label}_{src_ref}_absolute\", trend=trend, agg_base=agg_base, return_fig_ax=True)\n",
    "    fig.show()\n",
    "    if return_fig_ax:\n",
    "        return fig, ax\n",
    "    if return_df:\n",
    "        return df"
   ]
  },
  {
   "cell_type": "code",
   "execution_count": 521,
   "id": "0bbf8673-be92-4eae-96ea-25666edfeaad",
   "metadata": {},
   "outputs": [],
   "source": [
    "colors = sns.color_palette(\"vlag\", as_cmap=True, n_colors=2)"
   ]
  },
  {
   "cell_type": "code",
   "execution_count": 542,
   "id": "0a214fa7-0d4f-408f-9d88-4d59ec318cca",
   "metadata": {},
   "outputs": [
    {
     "data": {
      "image/png": "[encoded data removed]",
      "text/plain": [
       "<Figure size 1000x200 with 1 Axes>"
      ]
     },
     "metadata": {},
     "output_type": "display_data"
    }
   ],
   "source": [
    "fig, ax = load_and_plot(FLICKR_CHERRY_ALL, src_ref=f\"Global Flickr & Twitter cherry blossom observations\", agg_base=AGG_BASE, trend=False, metric=metric_col, return_fig_ax=True)\n",
    "fig.show()"
   ]
  },
  {
   "cell_type": "markdown",
   "id": "75a23d80-f5b1-4a46-9380-8a510405bdad",
   "metadata": {},
   "source": [
    "## Twitter"
   ]
  },
  {
   "cell_type": "code",
   "execution_count": 543,
   "id": "777d375a-14bd-4f70-9879-6274902e0c91",
   "metadata": {},
   "outputs": [],
   "source": [
    "src = Path.cwd().parents[0] / \"00_data\" / \"twitter\" / \"2017-04-12_CherryTweetsWorldwide_2007to2017-01-01.csv\""
   ]
  },
  {
   "cell_type": "code",
   "execution_count": 544,
   "id": "33c5ab36-d7e3-4f0a-a661-2f54b16e65c8",
   "metadata": {},
   "outputs": [],
   "source": [
    "load_twitter_kwargs = {\n",
    "    \"filepath_or_buffer\":src,\n",
    "    \"index_col\":'datetime', \n",
    "    \"parse_dates\":{'datetime':[\"timestamp\"]},\n",
    "    # \"date_format\":'%Y-%m-%d',\n",
    "    \"keep_date_col\":'False',\n",
    "    \"usecols\":[\"id\", \"timestamp\"]\n",
    "}\n",
    "df = pd.read_csv(**load_twitter_kwargs)"
   ]
  },
  {
   "cell_type": "code",
   "execution_count": 545,
   "id": "e5a3579d-35d9-4ad2-89ee-d4fb5e2460ef",
   "metadata": {},
   "outputs": [],
   "source": [
    "df.drop(columns=['timestamp'], inplace=True)"
   ]
  },
  {
   "cell_type": "code",
   "execution_count": 546,
   "id": "00d3a65e-4614-4c45-9c26-c8ce426dbca8",
   "metadata": {},
   "outputs": [
    {
     "data": {
      "text/html": [
       "<div>\n",
       "<style scoped>\n",
       "    .dataframe tbody tr th:only-of-type {\n",
       "        vertical-align: middle;\n",
       "    }\n",
       "\n",
       "    .dataframe tbody tr th {\n",
       "        vertical-align: top;\n",
       "    }\n",
       "\n",
       "    .dataframe thead th {\n",
       "        text-align: right;\n",
       "    }\n",
       "</style>\n",
       "<table border=\"1\" class=\"dataframe\">\n",
       "  <thead>\n",
       "    <tr style=\"text-align: right;\">\n",
       "      <th></th>\n",
       "      <th>id</th>\n",
       "    </tr>\n",
       "    <tr>\n",
       "      <th>datetime</th>\n",
       "      <th></th>\n",
       "    </tr>\n",
       "  </thead>\n",
       "  <tbody>\n",
       "    <tr>\n",
       "      <th>2007-01-22 08:49:12</th>\n",
       "      <td>3665663</td>\n",
       "    </tr>\n",
       "    <tr>\n",
       "      <th>2007-02-17 20:39:46</th>\n",
       "      <td>5560411</td>\n",
       "    </tr>\n",
       "    <tr>\n",
       "      <th>2007-03-13 17:42:45</th>\n",
       "      <td>7462541</td>\n",
       "    </tr>\n",
       "    <tr>\n",
       "      <th>2007-03-23 04:40:10</th>\n",
       "      <td>11375161</td>\n",
       "    </tr>\n",
       "    <tr>\n",
       "      <th>2007-03-24 01:52:51</th>\n",
       "      <td>11860891</td>\n",
       "    </tr>\n",
       "  </tbody>\n",
       "</table>\n",
       "</div>"
      ],
      "text/plain": [
       "                           id\n",
       "datetime                     \n",
       "2007-01-22 08:49:12   3665663\n",
       "2007-02-17 20:39:46   5560411\n",
       "2007-03-13 17:42:45   7462541\n",
       "2007-03-23 04:40:10  11375161\n",
       "2007-03-24 01:52:51  11860891"
      ]
     },
     "execution_count": 546,
     "metadata": {},
     "output_type": "execute_result"
    }
   ],
   "source": [
    "df.head()"
   ]
  },
  {
   "cell_type": "markdown",
   "id": "2542f1eb-8f09-40bb-b37e-35328add840d",
   "metadata": {},
   "source": [
    "**Aggregate**"
   ]
  },
  {
   "cell_type": "code",
   "execution_count": 2,
   "id": "e1c5e5f3-f46a-4663-9fb5-aeebdc60e30f",
   "metadata": {},
   "outputs": [],
   "source": [
    "val_col = \"id\"\n",
    "agg_method = \"count\"\n",
    "metric_label=\"observations\""
   ]
  },
  {
   "cell_type": "code",
   "execution_count": 548,
   "id": "77106c9b-83ce-46c6-b6c9-93c2c8db7aa1",
   "metadata": {},
   "outputs": [],
   "source": [
    "df_twitter = filter_fill_time(\n",
    "    df, 2007, 2017, val_col=val_col, agg_base=AGG_BASE, agg_method=agg_method)"
   ]
  },
  {
   "cell_type": "code",
   "execution_count": 549,
   "id": "5d0f6c5f-de2d-4687-9a1b-0caab67f9219",
   "metadata": {},
   "outputs": [],
   "source": [
    "df_twitter.rename(columns={val_col: metric_label}, inplace=True)"
   ]
  },
  {
   "cell_type": "code",
   "execution_count": 550,
   "id": "bb37a31d-d7e0-4ac2-91e7-d670b9ff46ed",
   "metadata": {},
   "outputs": [],
   "source": [
    "src_ref=\"Global Twitter cherry blossom observations\""
   ]
  },
  {
   "cell_type": "code",
   "execution_count": 551,
   "id": "a6058d81-7958-4758-8777-343e19ddc063",
   "metadata": {},
   "outputs": [
    {
     "data": {
      "text/plain": [
       "observations    1599167\n",
       "dtype: int64"
      ]
     },
     "execution_count": 551,
     "metadata": {},
     "output_type": "execute_result"
    }
   ],
   "source": [
    "df_twitter.sum()"
   ]
  },
  {
   "cell_type": "code",
   "execution_count": 552,
   "id": "4c1db94e-8ecf-420b-9200-e58759a37940",
   "metadata": {},
   "outputs": [
    {
     "data": {
      "text/html": [
       "<div>\n",
       "<style scoped>\n",
       "    .dataframe tbody tr th:only-of-type {\n",
       "        vertical-align: middle;\n",
       "    }\n",
       "\n",
       "    .dataframe tbody tr th {\n",
       "        vertical-align: top;\n",
       "    }\n",
       "\n",
       "    .dataframe thead th {\n",
       "        text-align: right;\n",
       "    }\n",
       "</style>\n",
       "<table border=\"1\" class=\"dataframe\">\n",
       "  <thead>\n",
       "    <tr style=\"text-align: right;\">\n",
       "      <th></th>\n",
       "      <th>observations</th>\n",
       "    </tr>\n",
       "    <tr>\n",
       "      <th>datetime</th>\n",
       "      <th></th>\n",
       "    </tr>\n",
       "  </thead>\n",
       "  <tbody>\n",
       "    <tr>\n",
       "      <th>2007-01-31</th>\n",
       "      <td>2</td>\n",
       "    </tr>\n",
       "    <tr>\n",
       "      <th>2007-02-28</th>\n",
       "      <td>1</td>\n",
       "    </tr>\n",
       "    <tr>\n",
       "      <th>2007-03-31</th>\n",
       "      <td>14</td>\n",
       "    </tr>\n",
       "    <tr>\n",
       "      <th>2007-04-30</th>\n",
       "      <td>64</td>\n",
       "    </tr>\n",
       "    <tr>\n",
       "      <th>2007-05-31</th>\n",
       "      <td>3</td>\n",
       "    </tr>\n",
       "  </tbody>\n",
       "</table>\n",
       "</div>"
      ],
      "text/plain": [
       "            observations\n",
       "datetime                \n",
       "2007-01-31             2\n",
       "2007-02-28             1\n",
       "2007-03-31            14\n",
       "2007-04-30            64\n",
       "2007-05-31             3"
      ]
     },
     "execution_count": 552,
     "metadata": {},
     "output_type": "execute_result"
    }
   ],
   "source": [
    "df_twitter.head()"
   ]
  },
  {
   "cell_type": "markdown",
   "id": "eea7796b-dde5-435d-bf66-f5bc3e078a4d",
   "metadata": {},
   "source": [
    "instantiate a second axis that shares the same x-axis"
   ]
  },
  {
   "cell_type": "code",
   "execution_count": 553,
   "id": "d0d98711-8427-4433-a283-36aef9a42f48",
   "metadata": {},
   "outputs": [
    {
     "data": {
      "text/plain": [
       "Text(19.999999999999993, 0.5, 'Observations Flickr')"
      ]
     },
     "execution_count": 553,
     "metadata": {},
     "output_type": "execute_result"
    }
   ],
   "source": [
    "ax2 = ax.twinx()\n",
    "ax2.set_zorder(ax.get_zorder() - 1)\n",
    "ax.patch.set_visible(False)\n",
    "ax.set_ylabel('Observations Flickr')"
   ]
  },
  {
   "cell_type": "code",
   "execution_count": 554,
   "id": "0f5b1bc2-b5e7-4df9-a130-a465923bd8bc",
   "metadata": {},
   "outputs": [
    {
     "data": {
      "text/plain": [
       "Text(0.5, 1.0, '')"
      ]
     },
     "execution_count": 554,
     "metadata": {},
     "output_type": "execute_result"
    }
   ],
   "source": [
    "fig, ax = plot_time(\n",
    "        df_twitter, legend=metric_label.capitalize(), color=colors([0.0]),\n",
    "        title=f'{src_ref}', val_col=metric_label,\n",
    "        filename=f\"temporal_{metric_label}_{src_ref}_absolute\", trend=False, agg_base=AGG_BASE, fig=fig, ax=ax2, return_fig_ax=True)\n",
    "ax2.set_ylabel('Observations Twitter')\n",
    "ax2.set_title(\"\")"
   ]
  },
  {
   "cell_type": "code",
   "execution_count": 555,
   "id": "b88959c2-906b-4608-95a5-fcb8f8064aae",
   "metadata": {},
   "outputs": [
    {
     "data": {
      "text/plain": [
       "<matplotlib.legend.Legend at 0x7f9f4234d1c0>"
      ]
     },
     "execution_count": 555,
     "metadata": {},
     "output_type": "execute_result"
    }
   ],
   "source": [
    "range_patch = mpatches.Patch(\n",
    "    color=colors([0.0]),\n",
    "    label='Twitter', alpha=0.4)\n",
    "obs_patch = mpatches.Patch(\n",
    "    color=colors([1.0]),\n",
    "    label='Flickr', alpha=0.9)\n",
    "legend_entries = [range_patch, obs_patch]\n",
    "legend_kwds = {\n",
    "    \"bbox_to_anchor\": (0.0, 1),\n",
    "    \"loc\":'upper left',\n",
    "    \"fontsize\":8, \"frameon\":False,\n",
    "    \"alignment\":\"left\"}\n",
    "ax2.legend(\n",
    "            handles=legend_entries, **legend_kwds)"
   ]
  },
  {
   "cell_type": "code",
   "execution_count": 556,
   "id": "8d4837d6-5d13-43ef-a019-7a2042d52d50",
   "metadata": {},
   "outputs": [
    {
     "data": {
      "image/png": "[encoded data removed]",
      "text/plain": [
       "<Figure size 1000x200 with 2 Axes>"
      ]
     },
     "execution_count": 556,
     "metadata": {},
     "output_type": "execute_result"
    }
   ],
   "source": [
    "fig"
   ]
  },
  {
   "cell_type": "markdown",
   "id": "8923a3cf-ec91-403a-982e-7e2a4a635b81",
   "metadata": {},
   "source": [
    "# Create notebook HTML"
   ]
  },
  {
   "cell_type": "code",
   "execution_count": 7,
   "id": "2e162561-4394-4359-984d-41ed56d6ad3d",
   "metadata": {
    "editable": true,
    "slideshow": {
     "slide_type": ""
    },
    "tags": []
   },
   "outputs": [],
   "source": [
    "!jupyter nbconvert --to html_toc \\\n",
    "    --output-dir=../resources/html/ ./04_flickr-cherry.ipynb \\\n",
    "    --output 03_flickr-cherry_{metric_label} \\\n",
    "    --template=../nbconvert.tpl \\\n",
    "    --ExtractOutputPreprocessor.enabled=False >&- 2>&-"
   ]
  },
  {
   "cell_type": "markdown",
   "id": "a3eaa63b",
   "metadata": {
    "editable": true,
    "slideshow": {
     "slide_type": ""
    },
    "tags": []
   },
   "source": []
  }
 ],
 "metadata": {
  "kernelspec": {
   "display_name": "worker_env",
   "language": "python",
   "name": "worker_env"
  },
  "language_info": {
   "codemirror_mode": {
    "name": "ipython",
    "version": 3
   },
   "file_extension": ".py",
   "mimetype": "text/x-python",
   "name": "python",
   "nbconvert_exporter": "python",
   "pygments_lexer": "ipython3",
   "version": "3.9.15"
  }
 },
 "nbformat": 4,
 "nbformat_minor": 5
}
