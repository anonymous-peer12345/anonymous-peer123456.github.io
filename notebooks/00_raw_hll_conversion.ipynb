{
 "cells": [
  {
   "cell_type": "markdown",
   "id": "0289d753",
   "metadata": {
    "editable": true,
    "slideshow": {
     "slide_type": ""
    },
    "tags": [
     "hide_code"
    ]
   },
   "source": [
    "<div style=\"width: 100%;text-align:right;display: flex; align-items: top;\">\n",
    "    <div style=\"float: left;width: 80%;text-align:left\">\n",
    "        <h1>Preparation: Raw->Hll Conversion <a class=\"tocSkip\">&#182;</a></h1>\n",
    "        <p><em><a href=\"mailto:a.dunkel@ioer.de\">Alexander Dunkel</a>, Leibniz Institute of Ecological Urban and Regional Development, <br>\n",
    "        Transformative Capacities & Research Data Centre (IÖR-FDZ)</em></p></div>\n",
    "    <div style=\"width:256px;text-align:right;margin-top:0px;margin-right:10px\"><a href=\"https://gitlab.hrz.tu-chemnitz.de/ad/ephemeral_events\"><img src=\"https://kartographie.geo.tu-dresden.de/ad/wip/ephemeral_events/version.svg\"></a></div>\n",
    "</div>"
   ]
  },
  {
   "cell_type": "code",
   "execution_count": 4,
   "id": "7937dc1d",
   "metadata": {
    "jupyter": {
     "source_hidden": true
    },
    "tags": [
     "hide_code"
    ]
   },
   "outputs": [
    {
     "data": {
      "text/markdown": [
       "Last updated: Aug-18-2023, [Carto-Lab Docker](https://gitlab.vgiscience.de/lbsn/tools/jupyterlab) Version 0.14.0"
      ],
      "text/plain": [
       "<IPython.core.display.Markdown object>"
      ]
     },
     "execution_count": 4,
     "metadata": {},
     "output_type": "execute_result"
    }
   ],
   "source": [
    "from IPython.display import Markdown as md\n",
    "from datetime import date\n",
    "\n",
    "today = date.today()\n",
    "with open('/.version', 'r') as file: app_version = file.read().split(\"'\")[1]\n",
    "md(f\"Last updated: {today.strftime('%b-%d-%Y')}, [Carto-Lab Docker](https://gitlab.vgiscience.de/lbsn/tools/jupyterlab) Version {app_version}\")"
   ]
  },
  {
   "cell_type": "markdown",
   "id": "53d934db",
   "metadata": {},
   "source": [
    "Abstract preparation for visualization of temporal patterns for ephemeral events.\n",
    "\n",
    "## Prepare environment"
   ]
  },
  {
   "cell_type": "markdown",
   "id": "b89a90ee",
   "metadata": {},
   "source": [
    "To run this notebook, as a starting point, you have two options:<br><br>\n",
    "\n",
    "<div style=\"color: black;\">\n",
    "<details><summary style=\"cursor: pointer;\"><strong>1.</strong> Create an environment with the packages and versions shown in the following cell.</summary>\n",
    "   \n",
    "As a starting point, you may use the latest conda <a href=\"https://gitlab.vgiscience.de/lbsn/tools/jupyterlab/-/blob/master-latest/environment_default.yml\">environment_default.yml</a> from our CartoLab docker container.\n",
    "<br><br>\n",
    "</details>\n",
    "</div>\n",
    "\n",
    "<div style=\"color: black;\">\n",
    "<details><summary style=\"cursor: pointer;\"><strong>2.</strong> If docker is available to to, we suggest to use the <a href=\"https://gitlab.vgiscience.de/lbsn/tools/jupyterlab\">Carto-Lab Docker Container</a></summary>\n",
    "\n",
    "Clone the repository and edit your <code>.env</code> value to point to the repsitory, where this notebook can be found, e.g.:\n",
    "        \n",
    "```bash\n",
    "git clone https://gitlab.vgiscience.de/lbsn/tools/jupyterlab.git\n",
    "cd jupyterlab\n",
    "cp .env.example .env\n",
    "nano .env\n",
    "## Enter:\n",
    "# JUPYTER_NOTEBOOKS=~/notebooks/ephemeral_events\n",
    "# TAG=v0.12.3\n",
    "docker network create lbsn-network\n",
    "docker-compose pull && docker-compose up -d\n",
    "```\n",
    "\n",
    "</details>\n",
    "</div>"
   ]
  },
  {
   "cell_type": "code",
   "execution_count": 1,
   "id": "3a29f8ec",
   "metadata": {
    "tags": [
     "hide_code"
    ]
   },
   "outputs": [
    {
     "data": {
      "text/html": [
       "\n",
       "        <details><summary style=\"cursor: pointer;\">List of package versions used in this notebook</summary>\n",
       "        <table border=\"1\" class=\"dataframe\">\n",
       "  <thead>\n",
       "    <tr style=\"text-align: right;\">\n",
       "      <th>package</th>\n",
       "      <th>python</th>\n",
       "      <th>Fiona</th>\n",
       "      <th>Shapely</th>\n",
       "      <th>bokeh</th>\n",
       "      <th>colorcet</th>\n",
       "      <th>geopandas</th>\n",
       "      <th>geoviews</th>\n",
       "      <th>holoviews</th>\n",
       "      <th>hvplot</th>\n",
       "      <th>ipywidgets</th>\n",
       "    </tr>\n",
       "  </thead>\n",
       "  <tbody>\n",
       "    <tr>\n",
       "      <th>version</th>\n",
       "      <td>3.9.15</td>\n",
       "      <td>1.8.20</td>\n",
       "      <td>1.7.1</td>\n",
       "      <td>2.4.3</td>\n",
       "      <td>3.0.1</td>\n",
       "      <td>0.13.2</td>\n",
       "      <td>1.9.5</td>\n",
       "      <td>1.14.8</td>\n",
       "      <td>0.8.4</td>\n",
       "      <td>8.0.7</td>\n",
       "    </tr>\n",
       "  </tbody>\n",
       "</table><table border=\"1\" class=\"dataframe\">\n",
       "  <thead>\n",
       "    <tr style=\"text-align: right;\">\n",
       "      <th>package</th>\n",
       "      <th>mapclassify</th>\n",
       "      <th>matplotlib</th>\n",
       "      <th>matplotlib-venn</th>\n",
       "      <th>numpy</th>\n",
       "      <th>pandas</th>\n",
       "      <th>python-dotenv</th>\n",
       "      <th>xarray</th>\n",
       "    </tr>\n",
       "  </thead>\n",
       "  <tbody>\n",
       "    <tr>\n",
       "      <th>version</th>\n",
       "      <td>2.5.0</td>\n",
       "      <td>3.7.1</td>\n",
       "      <td>0.11.9</td>\n",
       "      <td>1.22.4</td>\n",
       "      <td>2.0.3</td>\n",
       "      <td>1.0.0</td>\n",
       "      <td>2023.6.0</td>\n",
       "    </tr>\n",
       "  </tbody>\n",
       "</table>\n",
       "        </details>\n",
       "        "
      ],
      "text/plain": [
       "<IPython.core.display.HTML object>"
      ]
     },
     "metadata": {},
     "output_type": "display_data"
    }
   ],
   "source": [
    "import sys\n",
    "from pathlib import Path\n",
    "\n",
    "module_path = str(Path.cwd().parents[0] / \"py\")\n",
    "if module_path not in sys.path:\n",
    "    sys.path.append(module_path)\n",
    "from modules.base import tools\n",
    "\n",
    "root_packages = [\n",
    "    'python', 'colorcet', 'holoviews', 'ipywidgets', 'geoviews', 'hvplot',\n",
    "    'geopandas', 'mapclassify', 'memory_profiler', 'python-dotenv', 'shapely',\n",
    "    'matplotlib', 'sklearn', 'numpy', 'pandas', 'bokeh', 'fiona',\n",
    "    'matplotlib-venn', 'xarray']\n",
    "tools.package_report(root_packages)"
   ]
  },
  {
   "cell_type": "markdown",
   "id": "fe1cbb29",
   "metadata": {},
   "source": [
    "Load dependencies:"
   ]
  },
  {
   "cell_type": "code",
   "execution_count": 2,
   "id": "e1b7dae1",
   "metadata": {
    "tags": []
   },
   "outputs": [],
   "source": [
    "import os, sys\n",
    "from pathlib import Path\n",
    "import psycopg2\n",
    "import geopandas as gp\n",
    "import pandas as pd\n",
    "import matplotlib.pyplot as plt\n",
    "from typing import List, Tuple, Dict, Optional\n",
    "from IPython.display import clear_output, display, HTML"
   ]
  },
  {
   "cell_type": "markdown",
   "id": "01229a4e-07ed-42af-bb2f-5ec1fd43be11",
   "metadata": {},
   "source": [
    "To reduce the code shown in this notebook, some helper methods are made available in a separate file.\n",
    "\n",
    "Load helper module from `../py/modules/base/tools.py`."
   ]
  },
  {
   "cell_type": "code",
   "execution_count": 3,
   "id": "900219be-09b2-40b9-a839-ac8820f842fa",
   "metadata": {
    "tags": []
   },
   "outputs": [],
   "source": [
    "module_path = str(Path.cwd().parents[0] / \"py\")\n",
    "if module_path not in sys.path:\n",
    "    sys.path.append(module_path)\n",
    "from modules.base import tools"
   ]
  },
  {
   "cell_type": "markdown",
   "id": "76f066ce",
   "metadata": {},
   "source": [
    "Activate autoreload of changed python files:"
   ]
  },
  {
   "cell_type": "code",
   "execution_count": 4,
   "id": "a136518f",
   "metadata": {
    "tags": []
   },
   "outputs": [],
   "source": [
    "%load_ext autoreload\n",
    "%autoreload 2"
   ]
  },
  {
   "cell_type": "markdown",
   "id": "43e083c5",
   "metadata": {},
   "source": [
    "### Parameters\n",
    "\n",
    "Define initial parameters that affect processing"
   ]
  },
  {
   "cell_type": "code",
   "execution_count": 5,
   "id": "e5c35a26",
   "metadata": {
    "tags": []
   },
   "outputs": [],
   "source": [
    "WORK_DIR = Path.cwd().parents[0] / \"tmp\"     # Working directory                     \n",
    "OUTPUT = Path.cwd().parents[0] / \"out\"       # Define path to output directory (figures etc.)"
   ]
  },
  {
   "cell_type": "code",
   "execution_count": 6,
   "id": "9ff77c1f",
   "metadata": {
    "tags": []
   },
   "outputs": [],
   "source": [
    "for folder in [WORK_DIR, OUTPUT]:\n",
    "    folder.mkdir(exist_ok=True)"
   ]
  },
  {
   "cell_type": "markdown",
   "id": "5727fc2d-2ead-4084-a632-bad45e4f4ad5",
   "metadata": {},
   "source": [
    "Load dotfiles environment variables"
   ]
  },
  {
   "cell_type": "code",
   "execution_count": 7,
   "id": "1e894dd6-6822-4e20-b8c9-dba5b6ac4c39",
   "metadata": {
    "tags": []
   },
   "outputs": [
    {
     "data": {
      "text/plain": [
       "True"
      ]
     },
     "execution_count": 7,
     "metadata": {},
     "output_type": "execute_result"
    }
   ],
   "source": [
    "from dotenv import load_dotenv\n",
    "load_dotenv(\n",
    "    Path.cwd().parents[0] / '.env', override=True)"
   ]
  },
  {
   "cell_type": "code",
   "execution_count": 8,
   "id": "8a7beacf-9806-4441-88bf-85030882431a",
   "metadata": {
    "tags": []
   },
   "outputs": [],
   "source": [
    "DB_NAME_RAWDB = os.getenv(\"DB_NAME_RAWDB\")    # lbsn-rawdb name\n",
    "DB_HOST_RAWDB = os.getenv(\"DB_HOST_RAWDB\")    # lbsn-rawdb name"
   ]
  },
  {
   "cell_type": "markdown",
   "id": "9e3dd22f",
   "metadata": {},
   "source": [
    "## Raw to HLL conversion"
   ]
  },
  {
   "cell_type": "code",
   "execution_count": 9,
   "id": "1811862b-ee23-4269-abd3-b4e03722c477",
   "metadata": {
    "tags": []
   },
   "outputs": [],
   "source": [
    "db_user = \"postgres\"\n",
    "db_pass = os.getenv('POSTGRES_PASSWORD')\n",
    "db_host = \"127.0.0.1\"\n",
    "db_port = \"25432\"\n",
    "db_name = \"hlldb\""
   ]
  },
  {
   "cell_type": "code",
   "execution_count": 10,
   "id": "e674c0b8",
   "metadata": {
    "tags": []
   },
   "outputs": [
    {
     "name": "stdout",
     "output_type": "stream",
     "text": [
      "SELECT 1\n"
     ]
    }
   ],
   "source": [
    "db_connection_hll = psycopg2.connect(\n",
    "        host=db_host,\n",
    "        port=db_port,\n",
    "        dbname=db_name,\n",
    "        user=db_user,\n",
    "        password=db_pass\n",
    ")\n",
    "db_conn_hll = tools.DbConn(db_connection_hll)\n",
    "cur_hll = db_connection_hll.cursor()\n",
    "cur_hll.execute(\"SELECT 1;\")\n",
    "print(cur_hll.statusmessage)"
   ]
  },
  {
   "cell_type": "markdown",
   "id": "2b898b76-ec4f-47fe-bb04-46f7fb408f44",
   "metadata": {},
   "source": [
    "Simplify query access:"
   ]
  },
  {
   "cell_type": "code",
   "execution_count": 11,
   "id": "ceba69bd-3c68-4d6a-b93f-39a985a64c9e",
   "metadata": {
    "tags": []
   },
   "outputs": [
    {
     "data": {
      "text/html": [
       "<div>\n",
       "<style scoped>\n",
       "    .dataframe tbody tr th:only-of-type {\n",
       "        vertical-align: middle;\n",
       "    }\n",
       "\n",
       "    .dataframe tbody tr th {\n",
       "        vertical-align: top;\n",
       "    }\n",
       "\n",
       "    .dataframe thead th {\n",
       "        text-align: right;\n",
       "    }\n",
       "</style>\n",
       "<table border=\"1\" class=\"dataframe\">\n",
       "  <thead>\n",
       "    <tr style=\"text-align: right;\">\n",
       "      <th></th>\n",
       "      <th>?column?</th>\n",
       "    </tr>\n",
       "  </thead>\n",
       "  <tbody>\n",
       "    <tr>\n",
       "      <th>0</th>\n",
       "      <td>1</td>\n",
       "    </tr>\n",
       "  </tbody>\n",
       "</table>\n",
       "</div>"
      ],
      "text/plain": [
       "   ?column?\n",
       "0         1"
      ]
     },
     "execution_count": 11,
     "metadata": {},
     "output_type": "execute_result"
    }
   ],
   "source": [
    "db_conn = tools.DbConn(db_connection_hll)\n",
    "db_conn.query(\"SELECT 1;\")"
   ]
  },
  {
   "cell_type": "markdown",
   "id": "fb5ae749-31bf-4258-8950-940b45c5b1d6",
   "metadata": {
    "tags": []
   },
   "source": [
    "<div class=\"alert alert-success\">\n",
    "If any SQL results in an error, the cursor cannot be used again. In this case, run <code>db_connection.rollback()</code> once, to reset the cursor.\n",
    "</div>"
   ]
  },
  {
   "cell_type": "code",
   "execution_count": 41,
   "id": "f2919168-b6be-4870-8345-3769fff90845",
   "metadata": {
    "tags": []
   },
   "outputs": [],
   "source": [
    "db_connection_hll.rollback()"
   ]
  },
  {
   "cell_type": "markdown",
   "id": "c7f9a4d7-2920-4adc-bdae-616f48d32502",
   "metadata": {},
   "source": [
    "### Create Query Schema\n",
    "\n",
    "Create a new schema called mviews and update Postgres search_path, to include new schema:"
   ]
  },
  {
   "cell_type": "code",
   "execution_count": 12,
   "id": "190f26ff-7434-4b38-a5af-d9f4e2d2d5fe",
   "metadata": {
    "tags": []
   },
   "outputs": [],
   "source": [
    "sql_query = \"\"\"\n",
    "CREATE SCHEMA IF NOT EXISTS mviews;\n",
    "ALTER DATABASE hlldb\n",
    "SET search_path = \"$user\",\n",
    "                  social,\n",
    "                  spatial,\n",
    "                  temporal,\n",
    "                  topical,\n",
    "                  interlinkage,\n",
    "                  extensions,\n",
    "                  mviews;\"\"\""
   ]
  },
  {
   "cell_type": "markdown",
   "id": "68483b61-6247-4ac0-a0f4-6f84c2da94be",
   "metadata": {},
   "source": [
    "Since the above query will not return any result, we'll directly use the psycopg2 cursor object:"
   ]
  },
  {
   "cell_type": "code",
   "execution_count": 13,
   "id": "831a4e39-9b3c-4897-9a97-80fb93f91458",
   "metadata": {
    "tags": []
   },
   "outputs": [
    {
     "name": "stdout",
     "output_type": "stream",
     "text": [
      "ALTER DATABASE\n"
     ]
    }
   ],
   "source": [
    "cur = db_connection_hll.cursor()\n",
    "cur.execute(sql_query)\n",
    "print(cur.statusmessage)"
   ]
  },
  {
   "cell_type": "markdown",
   "id": "821df8eb-fc45-4080-8ff8-89ee43f458e7",
   "metadata": {},
   "source": [
    "By using Foreign Table, this step will establish the connection between hlldb to rawdb.\n",
    "\n",
    "On hlldb, install [postgres_fdw extension](https://www.postgresql.org/docs/12/postgres-fdw.html):"
   ]
  },
  {
   "cell_type": "code",
   "execution_count": 14,
   "id": "8b6d3b4c-1785-472b-a866-ad37419fc697",
   "metadata": {
    "tags": []
   },
   "outputs": [
    {
     "name": "stdout",
     "output_type": "stream",
     "text": [
      "CREATE EXTENSION\n"
     ]
    }
   ],
   "source": [
    "sql_query = \"\"\"\n",
    "CREATE EXTENSION IF NOT EXISTS postgres_fdw SCHEMA extensions;\n",
    "\"\"\"\n",
    "cur_hll.execute(sql_query)\n",
    "print(cur_hll.statusmessage)"
   ]
  },
  {
   "cell_type": "markdown",
   "id": "014ff0f2-4ff6-427b-acfc-8e9d49b4f694",
   "metadata": {},
   "source": [
    "## iNaturalist Aves dataset"
   ]
  },
  {
   "cell_type": "markdown",
   "id": "9cbf7811-2e57-4fa9-8c83-fa7cf1caf475",
   "metadata": {},
   "source": [
    "Check if foreign table has been imported already:"
   ]
  },
  {
   "cell_type": "code",
   "execution_count": 21,
   "id": "b8849d8a-d75c-41b3-8bd3-e59636ebacb1",
   "metadata": {},
   "outputs": [],
   "source": [
    "raw_table_name = 'inaturalist_birds_reduced'"
   ]
  },
  {
   "cell_type": "code",
   "execution_count": 22,
   "id": "60d6a99f-0121-4b4c-b7e1-0f70834736bb",
   "metadata": {
    "tags": []
   },
   "outputs": [
    {
     "name": "stdout",
     "output_type": "stream",
     "text": [
      "True\n"
     ]
    }
   ],
   "source": [
    "result = tools.check_table_exists(db_conn_hll, raw_table_name)\n",
    "print(result)"
   ]
  },
  {
   "cell_type": "markdown",
   "id": "0fd78951-be40-4eba-bc0f-ee83f3999ffd",
   "metadata": {},
   "source": [
    "Conditional load password - this only need to be done once, if the server hasn't been added before."
   ]
  },
  {
   "cell_type": "code",
   "execution_count": 23,
   "id": "e314fc27-074e-41d4-a429-ea1ecc5fba31",
   "metadata": {
    "tags": []
   },
   "outputs": [],
   "source": [
    "if not result:\n",
    "    import getpass\n",
    "    USER_KEY = getpass.getpass()"
   ]
  },
  {
   "cell_type": "markdown",
   "id": "2085d8b8-430d-4d9e-a9e1-c4c7be4c8c7e",
   "metadata": {},
   "source": [
    "Create Foreign Server connection to rawdb, on hlldb:"
   ]
  },
  {
   "cell_type": "code",
   "execution_count": 25,
   "id": "ee427a82-c128-4e70-a089-d543a512bda4",
   "metadata": {
    "tags": []
   },
   "outputs": [],
   "source": [
    "if not result:\n",
    "    sql_query = f\"\"\"\n",
    "    CREATE SERVER IF NOT EXISTS lbsnraw \n",
    "    FOREIGN DATA WRAPPER postgres_fdw\n",
    "    OPTIONS (\n",
    "        host '{DB_NAME_RAWDB}',\n",
    "        dbname '{DB_HOST_RAWDB}',\n",
    "        port '5432',\n",
    "        keepalives '1',\n",
    "        keepalives_idle '30',\n",
    "        keepalives_interval '10',\n",
    "        keepalives_count '5',\n",
    "        fetch_size '500000');\n",
    "    CREATE USER MAPPING IF NOT EXISTS for postgres\n",
    "        SERVER lbsnraw \n",
    "        OPTIONS (user 'lbsn_reader', password '{USER_KEY}');\n",
    "    \"\"\"\n",
    "    cur_hll.execute(sql_query)\n",
    "    print(cur_hll.statusmessage)"
   ]
  },
  {
   "cell_type": "markdown",
   "id": "86efe01f-daf2-469c-95c1-a82356382b74",
   "metadata": {},
   "source": [
    "Import foreign table definition on the hlldb."
   ]
  },
  {
   "cell_type": "code",
   "execution_count": 26,
   "id": "7cde67a0-82ea-4e68-a457-f03a625aa422",
   "metadata": {
    "tags": []
   },
   "outputs": [],
   "source": [
    "sql_query = f\"\"\"\n",
    "IMPORT FOREIGN SCHEMA mviews\n",
    "    LIMIT TO (\n",
    "        {raw_table_name})\n",
    "    FROM SERVER lbsnraw \n",
    "    INTO mviews;\n",
    "\"\"\"\n",
    "# only import table \n",
    "# if it hasn't been imported already\n",
    "if not result:\n",
    "    cur_hll.execute(sql_query)\n",
    "    print(cur_hll.statusmessage)"
   ]
  },
  {
   "cell_type": "markdown",
   "id": "a4205747-083a-405b-bef4-18225e6f4f9f",
   "metadata": {},
   "source": [
    "test"
   ]
  },
  {
   "cell_type": "code",
   "execution_count": 27,
   "id": "b117e034-52a3-4178-97e3-34416965658a",
   "metadata": {
    "tags": []
   },
   "outputs": [
    {
     "data": {
      "text/html": [
       "<div>\n",
       "<style scoped>\n",
       "    .dataframe tbody tr th:only-of-type {\n",
       "        vertical-align: middle;\n",
       "    }\n",
       "\n",
       "    .dataframe tbody tr th {\n",
       "        vertical-align: top;\n",
       "    }\n",
       "\n",
       "    .dataframe thead th {\n",
       "        text-align: right;\n",
       "    }\n",
       "</style>\n",
       "<table border=\"1\" class=\"dataframe\">\n",
       "  <thead>\n",
       "    <tr style=\"text-align: right;\">\n",
       "      <th></th>\n",
       "      <th>post_guid</th>\n",
       "      <th>user_guid</th>\n",
       "      <th>post_create_date</th>\n",
       "      <th>post_latlng</th>\n",
       "      <th>emoji</th>\n",
       "    </tr>\n",
       "  </thead>\n",
       "  <tbody>\n",
       "    <tr>\n",
       "      <th>0</th>\n",
       "      <td>152813902</td>\n",
       "      <td>45f2c247710cc880f54ac4f9ea511d61</td>\n",
       "      <td>2023-03-28 12:56:00</td>\n",
       "      <td>0101000020E6100000EE3D5C72DC1B4C40054F2157EAFD...</td>\n",
       "      <td>[🐦]</td>\n",
       "    </tr>\n",
       "    <tr>\n",
       "      <th>1</th>\n",
       "      <td>6255134</td>\n",
       "      <td>3788ba855a73128265c739b89b087ea7</td>\n",
       "      <td>2017-01-29 13:09:00</td>\n",
       "      <td>0101000020E610000015E126A3CA2E4C40FBEAAA402D06...</td>\n",
       "      <td>[🐦]</td>\n",
       "    </tr>\n",
       "    <tr>\n",
       "      <th>2</th>\n",
       "      <td>142298717</td>\n",
       "      <td>eff17bae33eb23518c139c2df4865e71</td>\n",
       "      <td>2022-11-18 15:07:00</td>\n",
       "      <td>0101000020E61000000DFB3DB14EF74B40DD99098673A5...</td>\n",
       "      <td>[🐦]</td>\n",
       "    </tr>\n",
       "    <tr>\n",
       "      <th>3</th>\n",
       "      <td>131162197</td>\n",
       "      <td>45f2c247710cc880f54ac4f9ea511d61</td>\n",
       "      <td>2022-08-17 08:22:00</td>\n",
       "      <td>0101000020E61000002F6EA301BC274C40817C09151C56...</td>\n",
       "      <td>[🐦]</td>\n",
       "    </tr>\n",
       "    <tr>\n",
       "      <th>4</th>\n",
       "      <td>145574835</td>\n",
       "      <td>508051355f706c5ebc1b1bb882e16fa6</td>\n",
       "      <td>2023-01-01 00:17:37</td>\n",
       "      <td>0101000020E6100000F96A47718E3A4B40234DBC033C71...</td>\n",
       "      <td>[🐦]</td>\n",
       "    </tr>\n",
       "    <tr>\n",
       "      <th>5</th>\n",
       "      <td>82046712</td>\n",
       "      <td>ef6162c046df2b642ff770a9d2f0dd5a</td>\n",
       "      <td>2021-05-25 19:15:00</td>\n",
       "      <td>0101000020E61000001E1B81785DB94B40E6797077D636...</td>\n",
       "      <td>[🐦]</td>\n",
       "    </tr>\n",
       "    <tr>\n",
       "      <th>6</th>\n",
       "      <td>20964717</td>\n",
       "      <td>b21dfb148d20b1febdd8d86417f925c1</td>\n",
       "      <td>2019-02-07 19:13:00</td>\n",
       "      <td>0101000020E61000006AC18BBE822C4B40AC3C81B0537C...</td>\n",
       "      <td>[🐦]</td>\n",
       "    </tr>\n",
       "    <tr>\n",
       "      <th>7</th>\n",
       "      <td>105140579</td>\n",
       "      <td>aedc59674ef56669a136181004078c17</td>\n",
       "      <td>2022-01-18 08:38:00</td>\n",
       "      <td>0101000020E6100000CAFD0E4581904B40F75B3B511212...</td>\n",
       "      <td>[🐦]</td>\n",
       "    </tr>\n",
       "    <tr>\n",
       "      <th>8</th>\n",
       "      <td>120205737</td>\n",
       "      <td>92503b5c26f1da882c65713c665678fd</td>\n",
       "      <td>2022-06-04 23:03:02</td>\n",
       "      <td>0101000020E61000003259DC7F64904B401F2C63433713...</td>\n",
       "      <td>[🐦]</td>\n",
       "    </tr>\n",
       "    <tr>\n",
       "      <th>9</th>\n",
       "      <td>36524505</td>\n",
       "      <td>2c5eba98a6b8c04d1e726ec2516434dd</td>\n",
       "      <td>2019-12-10 10:53:01</td>\n",
       "      <td>0101000020E6100000F0DDE68D93BE4B406E13EE95794F...</td>\n",
       "      <td>[🐦]</td>\n",
       "    </tr>\n",
       "  </tbody>\n",
       "</table>\n",
       "</div>"
      ],
      "text/plain": [
       "   post_guid                         user_guid    post_create_date  \\\n",
       "0  152813902  45f2c247710cc880f54ac4f9ea511d61 2023-03-28 12:56:00   \n",
       "1    6255134  3788ba855a73128265c739b89b087ea7 2017-01-29 13:09:00   \n",
       "2  142298717  eff17bae33eb23518c139c2df4865e71 2022-11-18 15:07:00   \n",
       "3  131162197  45f2c247710cc880f54ac4f9ea511d61 2022-08-17 08:22:00   \n",
       "4  145574835  508051355f706c5ebc1b1bb882e16fa6 2023-01-01 00:17:37   \n",
       "5   82046712  ef6162c046df2b642ff770a9d2f0dd5a 2021-05-25 19:15:00   \n",
       "6   20964717  b21dfb148d20b1febdd8d86417f925c1 2019-02-07 19:13:00   \n",
       "7  105140579  aedc59674ef56669a136181004078c17 2022-01-18 08:38:00   \n",
       "8  120205737  92503b5c26f1da882c65713c665678fd 2022-06-04 23:03:02   \n",
       "9   36524505  2c5eba98a6b8c04d1e726ec2516434dd 2019-12-10 10:53:01   \n",
       "\n",
       "                                         post_latlng emoji  \n",
       "0  0101000020E6100000EE3D5C72DC1B4C40054F2157EAFD...   [🐦]  \n",
       "1  0101000020E610000015E126A3CA2E4C40FBEAAA402D06...   [🐦]  \n",
       "2  0101000020E61000000DFB3DB14EF74B40DD99098673A5...   [🐦]  \n",
       "3  0101000020E61000002F6EA301BC274C40817C09151C56...   [🐦]  \n",
       "4  0101000020E6100000F96A47718E3A4B40234DBC033C71...   [🐦]  \n",
       "5  0101000020E61000001E1B81785DB94B40E6797077D636...   [🐦]  \n",
       "6  0101000020E61000006AC18BBE822C4B40AC3C81B0537C...   [🐦]  \n",
       "7  0101000020E6100000CAFD0E4581904B40F75B3B511212...   [🐦]  \n",
       "8  0101000020E61000003259DC7F64904B401F2C63433713...   [🐦]  \n",
       "9  0101000020E6100000F0DDE68D93BE4B406E13EE95794F...   [🐦]  "
      ]
     },
     "execution_count": 27,
     "metadata": {},
     "output_type": "execute_result"
    }
   ],
   "source": [
    "db_conn.query(f\"SELECT * FROM mviews.{raw_table_name} LIMIT 10;\")"
   ]
  },
  {
   "cell_type": "markdown",
   "id": "37514872-d455-4591-933a-17450b4dbdda",
   "metadata": {},
   "source": [
    "Commit changes to `hlldb`"
   ]
  },
  {
   "cell_type": "code",
   "execution_count": 23,
   "id": "ae3bb43f-363b-43ba-8d5f-6370438aa480",
   "metadata": {
    "tags": []
   },
   "outputs": [],
   "source": [
    "db_connection_hll.commit()"
   ]
  },
  {
   "cell_type": "markdown",
   "id": "c08aafa0-d849-464e-8c40-162d9d0c102f",
   "metadata": {},
   "source": [
    "### Prepare conversion of raw data to hll"
   ]
  },
  {
   "cell_type": "markdown",
   "id": "6d2e48cd-57bf-49b3-9359-6091a624f474",
   "metadata": {},
   "source": [
    "**HyperLogLog parameters**\n",
    "\n",
    "The HyperLogLog extension for Postgres from [Citus](https://github.com/citusdata/postgresql-hll) that we're using here, contains several tweaks, to optimize performance, that can affect sensitivity of data.\n",
    "\n",
    "From a privacy perspective, for example, it is recommended to disable [explicit mode](https://github.com/citusdata/postgresql-hll/blob/master/REFERENCE.md#metadata-functions).\n",
    "\n",
    "**Explicit mode?** When explicit mode is active, full IDs will be stored for small sets. In our case, any coordinates frequented by few users (outliers) would store full user and post IDs.\n",
    "\n",
    "To disable explicit mode:"
   ]
  },
  {
   "cell_type": "code",
   "execution_count": 28,
   "id": "029ea7d4-2668-487c-be6f-3641fea239f5",
   "metadata": {
    "tags": []
   },
   "outputs": [
    {
     "data": {
      "text/html": [
       "<div>\n",
       "<style scoped>\n",
       "    .dataframe tbody tr th:only-of-type {\n",
       "        vertical-align: middle;\n",
       "    }\n",
       "\n",
       "    .dataframe tbody tr th {\n",
       "        vertical-align: top;\n",
       "    }\n",
       "\n",
       "    .dataframe thead th {\n",
       "        text-align: right;\n",
       "    }\n",
       "</style>\n",
       "<table border=\"1\" class=\"dataframe\">\n",
       "  <thead>\n",
       "    <tr style=\"text-align: right;\">\n",
       "      <th></th>\n",
       "      <th>hll_set_defaults</th>\n",
       "    </tr>\n",
       "  </thead>\n",
       "  <tbody>\n",
       "    <tr>\n",
       "      <th>0</th>\n",
       "      <td>(11,5,-1,1)</td>\n",
       "    </tr>\n",
       "  </tbody>\n",
       "</table>\n",
       "</div>"
      ],
      "text/plain": [
       "  hll_set_defaults\n",
       "0      (11,5,-1,1)"
      ]
     },
     "execution_count": 28,
     "metadata": {},
     "output_type": "execute_result"
    }
   ],
   "source": [
    "db_conn_hll.query(\"SELECT hll_set_defaults(11, 5, 0, 1);\")"
   ]
  },
  {
   "cell_type": "code",
   "execution_count": 57,
   "id": "c9d5385c-4b21-4f8f-9224-a580aa6cd108",
   "metadata": {},
   "outputs": [
    {
     "data": {
      "text/html": [
       "<div>\n",
       "<style scoped>\n",
       "    .dataframe tbody tr th:only-of-type {\n",
       "        vertical-align: middle;\n",
       "    }\n",
       "\n",
       "    .dataframe tbody tr th {\n",
       "        vertical-align: top;\n",
       "    }\n",
       "\n",
       "    .dataframe thead th {\n",
       "        text-align: right;\n",
       "    }\n",
       "</style>\n",
       "<table border=\"1\" class=\"dataframe\">\n",
       "  <thead>\n",
       "    <tr style=\"text-align: right;\">\n",
       "      <th></th>\n",
       "      <th>wkb_geometry</th>\n",
       "    </tr>\n",
       "  </thead>\n",
       "  <tbody>\n",
       "    <tr>\n",
       "      <th>0</th>\n",
       "      <td>0106000020E61000005A00000001030000000100000004...</td>\n",
       "    </tr>\n",
       "  </tbody>\n",
       "</table>\n",
       "</div>"
      ],
      "text/plain": [
       "                                        wkb_geometry\n",
       "0  0106000020E61000005A00000001030000000100000004..."
      ]
     },
     "execution_count": 57,
     "metadata": {},
     "output_type": "execute_result"
    }
   ],
   "source": [
    "db_conn_hll.query(\"SELECT wkb_geometry from spatial.milvus_milvus_range_sub;\")"
   ]
  },
  {
   "cell_type": "markdown",
   "id": "c1591d0c-70af-43ac-854b-339e2ade3015",
   "metadata": {},
   "source": [
    "### Aggregation step\n",
    "\n",
    "- Convert data to Hll\n",
    "- filter by space (Milvus milvus range)\n",
    "- group by month, year\n",
    "- order by year, month"
   ]
  },
  {
   "cell_type": "code",
   "execution_count": 61,
   "id": "fdd15c5b-e534-4c1d-b595-5d7e3d772889",
   "metadata": {},
   "outputs": [],
   "source": [
    "def materialized_view_hll(table_name_src: str, table_name_dest, schema: str = None, additional_cols: [str] = None) -> str:\n",
    "    \"\"\"Returns raw SQL for creating a materialized view with HLL aggregate\"\"\"\n",
    "    if not schema:\n",
    "        schema = 'mviews'\n",
    "    if additional_cols is None:\n",
    "        additional_cols = []\n",
    "    return f\"\"\"\n",
    "        DROP MATERIALIZED VIEW IF EXISTS {schema}.{table_name_dest};\n",
    "        \n",
    "        CREATE MATERIALIZED VIEW {schema}.{table_name_dest} AS\n",
    "            WITH polies AS (SELECT wkb_geometry from spatial.milvus_milvus_range_sub)\n",
    "            SELECT \n",
    "                EXTRACT(MONTH FROM post_create_date) AS \"month\",\n",
    "                EXTRACT(YEAR FROM post_create_date) AS \"year\",\n",
    "                hll_add_agg((hll_hash_text(post_guid))) AS \"post_hll\",\n",
    "                hll_add_agg((hll_hash_text(user_guid))) AS \"user_hll\"\n",
    "                {''.join([f\",{x}\" for x in additional_cols])}\n",
    "            FROM {schema}.{table_name_src}, polies\n",
    "            WHERE ST_Intersects(post_latlng, wkb_geometry)\n",
    "            GROUP BY year, month{''.join([f\",{x}\" for x in additional_cols if len(additional_cols) > 0])}\n",
    "            ORDER BY year ASC, month ASC;\n",
    "        \"\"\""
   ]
  },
  {
   "cell_type": "code",
   "execution_count": 60,
   "id": "ee6526ed-e625-415d-9ad0-5be9c338b276",
   "metadata": {},
   "outputs": [],
   "source": [
    "db_connection_hll.rollback()"
   ]
  },
  {
   "cell_type": "code",
   "execution_count": 62,
   "id": "de9bb79d-564c-432f-aceb-582e704dafb6",
   "metadata": {
    "tags": []
   },
   "outputs": [
    {
     "name": "stdout",
     "output_type": "stream",
     "text": [
      "SELECT 481\n",
      "CPU times: user 999 µs, sys: 385 µs, total: 1.38 ms\n",
      "Wall time: 18.2 s\n"
     ]
    }
   ],
   "source": [
    "%%time\n",
    "destination_table = \"inaturalist_birds_month\"\n",
    "origin_table = raw_table_name\n",
    "sql_query = materialized_view_hll(\n",
    "    table_name_src=origin_table, table_name_dest=destination_table)\n",
    "cur_hll.execute(sql_query)\n",
    "print(cur_hll.statusmessage)"
   ]
  },
  {
   "cell_type": "markdown",
   "id": "a4c692cb-c5de-413f-9be8-c3854880b401",
   "metadata": {},
   "source": [
    "Test:"
   ]
  },
  {
   "cell_type": "code",
   "execution_count": 63,
   "id": "a1710b30-71a2-4439-91e4-34465a76b0bd",
   "metadata": {
    "tags": []
   },
   "outputs": [
    {
     "data": {
      "text/html": [
       "<div>\n",
       "<style scoped>\n",
       "    .dataframe tbody tr th:only-of-type {\n",
       "        vertical-align: middle;\n",
       "    }\n",
       "\n",
       "    .dataframe tbody tr th {\n",
       "        vertical-align: top;\n",
       "    }\n",
       "\n",
       "    .dataframe thead th {\n",
       "        text-align: right;\n",
       "    }\n",
       "</style>\n",
       "<table border=\"1\" class=\"dataframe\">\n",
       "  <thead>\n",
       "    <tr style=\"text-align: right;\">\n",
       "      <th></th>\n",
       "      <th>month</th>\n",
       "      <th>year</th>\n",
       "      <th>post_hll</th>\n",
       "      <th>user_hll</th>\n",
       "    </tr>\n",
       "  </thead>\n",
       "  <tbody>\n",
       "    <tr>\n",
       "      <th>0</th>\n",
       "      <td>5.0</td>\n",
       "      <td>1920.0</td>\n",
       "      <td>\\x138b4038c25fc1</td>\n",
       "      <td>\\x138b404023</td>\n",
       "    </tr>\n",
       "    <tr>\n",
       "      <th>1</th>\n",
       "      <td>4.0</td>\n",
       "      <td>1962.0</td>\n",
       "      <td>\\x138b4012c4</td>\n",
       "      <td>\\x138b40fee1</td>\n",
       "    </tr>\n",
       "    <tr>\n",
       "      <th>2</th>\n",
       "      <td>9.0</td>\n",
       "      <td>1962.0</td>\n",
       "      <td>\\x138b407222</td>\n",
       "      <td>\\x138b40d6e2</td>\n",
       "    </tr>\n",
       "    <tr>\n",
       "      <th>3</th>\n",
       "      <td>7.0</td>\n",
       "      <td>1965.0</td>\n",
       "      <td>\\x138b4068a1</td>\n",
       "      <td>\\x138b4073a3</td>\n",
       "    </tr>\n",
       "    <tr>\n",
       "      <th>4</th>\n",
       "      <td>9.0</td>\n",
       "      <td>1965.0</td>\n",
       "      <td>\\x138b40594486e19323</td>\n",
       "      <td>\\x138b4073a3</td>\n",
       "    </tr>\n",
       "    <tr>\n",
       "      <th>5</th>\n",
       "      <td>1.0</td>\n",
       "      <td>1966.0</td>\n",
       "      <td>\\x138b404782</td>\n",
       "      <td>\\x138b408b85</td>\n",
       "    </tr>\n",
       "    <tr>\n",
       "      <th>6</th>\n",
       "      <td>2.0</td>\n",
       "      <td>1966.0</td>\n",
       "      <td>\\x138b40de01</td>\n",
       "      <td>\\x138b404b41</td>\n",
       "    </tr>\n",
       "    <tr>\n",
       "      <th>7</th>\n",
       "      <td>5.0</td>\n",
       "      <td>1966.0</td>\n",
       "      <td>\\x138b40064445614be17b448541c9c3</td>\n",
       "      <td>\\x138b4073a3</td>\n",
       "    </tr>\n",
       "    <tr>\n",
       "      <th>8</th>\n",
       "      <td>6.0</td>\n",
       "      <td>1966.0</td>\n",
       "      <td>\\x138b400702</td>\n",
       "      <td>\\x138b40fee1</td>\n",
       "    </tr>\n",
       "    <tr>\n",
       "      <th>9</th>\n",
       "      <td>5.0</td>\n",
       "      <td>1967.0</td>\n",
       "      <td>\\x138b4049a1d2e3</td>\n",
       "      <td>\\x138b4073a37582</td>\n",
       "    </tr>\n",
       "  </tbody>\n",
       "</table>\n",
       "</div>"
      ],
      "text/plain": [
       "   month    year                          post_hll          user_hll\n",
       "0    5.0  1920.0                  \\x138b4038c25fc1      \\x138b404023\n",
       "1    4.0  1962.0                      \\x138b4012c4      \\x138b40fee1\n",
       "2    9.0  1962.0                      \\x138b407222      \\x138b40d6e2\n",
       "3    7.0  1965.0                      \\x138b4068a1      \\x138b4073a3\n",
       "4    9.0  1965.0              \\x138b40594486e19323      \\x138b4073a3\n",
       "5    1.0  1966.0                      \\x138b404782      \\x138b408b85\n",
       "6    2.0  1966.0                      \\x138b40de01      \\x138b404b41\n",
       "7    5.0  1966.0  \\x138b40064445614be17b448541c9c3      \\x138b4073a3\n",
       "8    6.0  1966.0                      \\x138b400702      \\x138b40fee1\n",
       "9    5.0  1967.0                  \\x138b4049a1d2e3  \\x138b4073a37582"
      ]
     },
     "execution_count": 63,
     "metadata": {},
     "output_type": "execute_result"
    }
   ],
   "source": [
    "db_conn.query(f\"SELECT * FROM mviews.{destination_table} LIMIT 10;\")"
   ]
  },
  {
   "cell_type": "code",
   "execution_count": 64,
   "id": "8abb831c-80ba-4a9b-91a4-0c20efdb9f09",
   "metadata": {
    "tags": []
   },
   "outputs": [],
   "source": [
    "db_connection_hll.commit()"
   ]
  },
  {
   "cell_type": "markdown",
   "id": "d69a3997-5ea7-4247-af5f-44213f8cea00",
   "metadata": {},
   "source": [
    "### Export data as CSV"
   ]
  },
  {
   "cell_type": "markdown",
   "id": "6760621c-599b-4720-9e65-d6bc0bfc1354",
   "metadata": {
    "tags": []
   },
   "source": [
    "Save hll data to CSV. The following records are available from table spatial.latlng:\n",
    "\n",
    "- year     - distinct year\n",
    "- month    - month\n",
    "- post_hll - approximate post guids stored as hll set\n",
    "- user_hll - approximate user guids stored as hll set"
   ]
  },
  {
   "cell_type": "code",
   "execution_count": 65,
   "id": "1e2ec4fe-377e-4cec-9155-0d4f24dc8102",
   "metadata": {
    "tags": []
   },
   "outputs": [],
   "source": [
    "sql_query = f\"\"\"\n",
    "    SELECT  year,\n",
    "            month,\n",
    "            post_hll,\n",
    "            user_hll\n",
    "    FROM mviews.{destination_table};\n",
    "    \"\"\"\n",
    "df = db_conn.query(sql_query)\n",
    "# use type int instead of float\n",
    "time_cols = [\"year\", \"month\"]\n",
    "# drop where time cols are invalid \n",
    "df.dropna(subset=time_cols, inplace=True)\n",
    "# turn float to int\n",
    "for col in time_cols:\n",
    "    df[col] = df[col].astype(int)\n",
    "# we can also remove any rows where the year is < 2007\n",
    "df.drop(df[df['year'] < 2007].index, inplace = True)"
   ]
  },
  {
   "cell_type": "code",
   "execution_count": 66,
   "id": "dda8a694-041f-46ca-af11-88c884fb8270",
   "metadata": {
    "tags": []
   },
   "outputs": [
    {
     "data": {
      "text/html": [
       "<div>\n",
       "<style scoped>\n",
       "    .dataframe tbody tr th:only-of-type {\n",
       "        vertical-align: middle;\n",
       "    }\n",
       "\n",
       "    .dataframe tbody tr th {\n",
       "        vertical-align: top;\n",
       "    }\n",
       "\n",
       "    .dataframe thead th {\n",
       "        text-align: right;\n",
       "    }\n",
       "</style>\n",
       "<table border=\"1\" class=\"dataframe\">\n",
       "  <thead>\n",
       "    <tr style=\"text-align: right;\">\n",
       "      <th></th>\n",
       "      <th>year</th>\n",
       "      <th>month</th>\n",
       "      <th>post_hll</th>\n",
       "      <th>user_hll</th>\n",
       "    </tr>\n",
       "  </thead>\n",
       "  <tbody>\n",
       "    <tr>\n",
       "      <th>284</th>\n",
       "      <td>2007</td>\n",
       "      <td>1</td>\n",
       "      <td>\\x138b40026402a204010542096210a116221a811b011c...</td>\n",
       "      <td>\\x138b400841136518e12681276228e1296232c355a15c...</td>\n",
       "    </tr>\n",
       "    <tr>\n",
       "      <th>285</th>\n",
       "      <td>2007</td>\n",
       "      <td>2</td>\n",
       "      <td>\\x138b4004a105a30e810f45106211c115c1166519c11a...</td>\n",
       "      <td>\\x138b400501296232c33a413ae14b214ca150e155a16c...</td>\n",
       "    </tr>\n",
       "    <tr>\n",
       "      <th>286</th>\n",
       "      <td>2007</td>\n",
       "      <td>3</td>\n",
       "      <td>\\x138b40014101a2066309210a220a810ac20b050be20c...</td>\n",
       "      <td>\\x138b4002210282070116611862276229622e8332c33a...</td>\n",
       "    </tr>\n",
       "    <tr>\n",
       "      <th>287</th>\n",
       "      <td>2007</td>\n",
       "      <td>4</td>\n",
       "      <td>\\x138b40016101a203e10463058306c107e1084308810b...</td>\n",
       "      <td>\\x138b400421070108640b010fe31342252125e426a127...</td>\n",
       "    </tr>\n",
       "    <tr>\n",
       "      <th>288</th>\n",
       "      <td>2007</td>\n",
       "      <td>5</td>\n",
       "      <td>\\x138b40022102a302e304a5078207a808a10b210c410d...</td>\n",
       "      <td>\\x138b4007010fa11ba526a1276228022b012da12e8332...</td>\n",
       "    </tr>\n",
       "  </tbody>\n",
       "</table>\n",
       "</div>"
      ],
      "text/plain": [
       "     year  month                                           post_hll  \\\n",
       "284  2007      1  \\x138b40026402a204010542096210a116221a811b011c...   \n",
       "285  2007      2  \\x138b4004a105a30e810f45106211c115c1166519c11a...   \n",
       "286  2007      3  \\x138b40014101a2066309210a220a810ac20b050be20c...   \n",
       "287  2007      4  \\x138b40016101a203e10463058306c107e1084308810b...   \n",
       "288  2007      5  \\x138b40022102a302e304a5078207a808a10b210c410d...   \n",
       "\n",
       "                                              user_hll  \n",
       "284  \\x138b400841136518e12681276228e1296232c355a15c...  \n",
       "285  \\x138b400501296232c33a413ae14b214ca150e155a16c...  \n",
       "286  \\x138b4002210282070116611862276229622e8332c33a...  \n",
       "287  \\x138b400421070108640b010fe31342252125e426a127...  \n",
       "288  \\x138b4007010fa11ba526a1276228022b012da12e8332...  "
      ]
     },
     "execution_count": 66,
     "metadata": {},
     "output_type": "execute_result"
    }
   ],
   "source": [
    "df.head()"
   ]
  },
  {
   "cell_type": "code",
   "execution_count": 67,
   "id": "d055086a-f83f-4e0a-9802-a7a92d07da1a",
   "metadata": {
    "tags": []
   },
   "outputs": [],
   "source": [
    "usecols = [\"year\", \"month\", \"post_hll\", \"user_hll\"]\n",
    "df.to_csv(\n",
    "    OUTPUT / f\"{destination_table}.csv\",\n",
    "    mode='w', columns=usecols,\n",
    "    index=False, header=True)"
   ]
  },
  {
   "cell_type": "markdown",
   "id": "fa294368-74bf-4b97-821e-35718a2e9d37",
   "metadata": {},
   "source": [
    "## Flickr Cherry dataset"
   ]
  },
  {
   "cell_type": "markdown",
   "id": "200b686b-44fe-4cba-afa2-b15cb8f7cbde",
   "metadata": {},
   "source": [
    "Check if foreign table has been imported already:"
   ]
  },
  {
   "cell_type": "code",
   "execution_count": 20,
   "id": "74c94081-8f07-4f21-a0f1-6858bdedd52e",
   "metadata": {},
   "outputs": [],
   "source": [
    "raw_table_name = 'flickr_cherries_reduced'"
   ]
  },
  {
   "cell_type": "code",
   "execution_count": 21,
   "id": "ad29becf-9b00-4520-9765-9e2e239bde58",
   "metadata": {
    "tags": []
   },
   "outputs": [
    {
     "name": "stdout",
     "output_type": "stream",
     "text": [
      "False\n"
     ]
    }
   ],
   "source": [
    "result = tools.check_table_exists(db_conn_hll, raw_table_name)\n",
    "print(result)"
   ]
  },
  {
   "cell_type": "markdown",
   "id": "bed2fe96-4519-4875-a7bf-bcf213e7937c",
   "metadata": {},
   "source": [
    "Conditional load password - this only need to be done once, if the server hasn't been added before."
   ]
  },
  {
   "cell_type": "markdown",
   "id": "47cd1b22-525f-428f-953f-65ffc04fcdd8",
   "metadata": {},
   "source": [
    "Import foreign table definition on the hlldb."
   ]
  },
  {
   "cell_type": "code",
   "execution_count": 22,
   "id": "59fb5bdc-6e1b-4bd3-b631-f670c90a90e5",
   "metadata": {
    "tags": []
   },
   "outputs": [
    {
     "name": "stdout",
     "output_type": "stream",
     "text": [
      "IMPORT FOREIGN SCHEMA\n"
     ]
    }
   ],
   "source": [
    "sql_query = f\"\"\"\n",
    "IMPORT FOREIGN SCHEMA mviews\n",
    "    LIMIT TO (\n",
    "        {raw_table_name})\n",
    "    FROM SERVER lbsnraw \n",
    "    INTO mviews;\n",
    "\"\"\"\n",
    "# only import table \n",
    "# if it hasn't been imported already\n",
    "if not result:\n",
    "    cur_hll.execute(sql_query)\n",
    "    print(cur_hll.statusmessage)"
   ]
  },
  {
   "cell_type": "markdown",
   "id": "837190f7-edb2-435e-82e0-d26993c89b55",
   "metadata": {},
   "source": [
    "test"
   ]
  },
  {
   "cell_type": "code",
   "execution_count": 23,
   "id": "38ae23ad-7d1b-482b-bb62-221f3483ddc2",
   "metadata": {
    "tags": []
   },
   "outputs": [
    {
     "data": {
      "text/html": [
       "<div>\n",
       "<style scoped>\n",
       "    .dataframe tbody tr th:only-of-type {\n",
       "        vertical-align: middle;\n",
       "    }\n",
       "\n",
       "    .dataframe tbody tr th {\n",
       "        vertical-align: top;\n",
       "    }\n",
       "\n",
       "    .dataframe thead th {\n",
       "        text-align: right;\n",
       "    }\n",
       "</style>\n",
       "<table border=\"1\" class=\"dataframe\">\n",
       "  <thead>\n",
       "    <tr style=\"text-align: right;\">\n",
       "      <th></th>\n",
       "      <th>post_guid</th>\n",
       "      <th>user_guid</th>\n",
       "      <th>post_create_date</th>\n",
       "      <th>post_latlng</th>\n",
       "    </tr>\n",
       "  </thead>\n",
       "  <tbody>\n",
       "    <tr>\n",
       "      <th>0</th>\n",
       "      <td>k0CVR8YLJcX+txr2omtAqQRcSobKUU5NWc76XlZWG/4</td>\n",
       "      <td>xXwaWu7h0F8LZp1ZqPbGxaijfYZ65U7omtnkf3F8hxs</td>\n",
       "      <td>2013-05-08 16:36:46</td>\n",
       "      <td>0101000020E610000035CF11F92EE5F7BF0FD253E410B1...</td>\n",
       "    </tr>\n",
       "    <tr>\n",
       "      <th>1</th>\n",
       "      <td>lzCL/fdFUuGA7cCPOrsECZC/4LzpSxbH7khVAbXBqoA</td>\n",
       "      <td>JZkKtw6Ds8qMDqM33z6jmqck4BwoQ4AIirdcy0fVGno</td>\n",
       "      <td>2010-04-30 16:24:53</td>\n",
       "      <td>0101000020E61000003A4030478FDFF7BFF3E7DB82A5B0...</td>\n",
       "    </tr>\n",
       "    <tr>\n",
       "      <th>2</th>\n",
       "      <td>a9n1ML9khGs1bVx4DwaHfgM1qxZqMwP2HOep8CiU+ME</td>\n",
       "      <td>JZkKtw6Ds8qMDqM33z6jmqck4BwoQ4AIirdcy0fVGno</td>\n",
       "      <td>2010-04-30 16:24:30</td>\n",
       "      <td>0101000020E61000003A4030478FDFF7BFF3E7DB82A5B0...</td>\n",
       "    </tr>\n",
       "    <tr>\n",
       "      <th>3</th>\n",
       "      <td>vatbfVaVEOgUQcaNkJEiXbm1hBYB7TISWxddkCBTsW8</td>\n",
       "      <td>JZkKtw6Ds8qMDqM33z6jmqck4BwoQ4AIirdcy0fVGno</td>\n",
       "      <td>2010-04-30 16:23:53</td>\n",
       "      <td>0101000020E61000003A4030478FDFF7BFF3E7DB82A5B0...</td>\n",
       "    </tr>\n",
       "    <tr>\n",
       "      <th>4</th>\n",
       "      <td>EfKlhwJQEaobcBm8SmH3VZ1h9X3+J4NtxZQdGYIF0Fs</td>\n",
       "      <td>63F6LbXI5lij45Tz0CLvC8ezEKBzQ5IkWNwq598CtB4</td>\n",
       "      <td>2014-04-07 14:47:08</td>\n",
       "      <td>0101000020E6100000FB22A12DE7D2F7BF5053CBD6FAAA...</td>\n",
       "    </tr>\n",
       "    <tr>\n",
       "      <th>5</th>\n",
       "      <td>Ki2CL+n2fRFU3vtfJz1+dJTyaPlmgmwDNNZZcvj+pII</td>\n",
       "      <td>vb7CRl+k+/XS5/q+aJv6hXOQkr6br2UF0xETgL58ziE</td>\n",
       "      <td>2008-05-03 18:22:06</td>\n",
       "      <td>0101000020E610000050AA7D3A1E33F7BF397D3D5FB370...</td>\n",
       "    </tr>\n",
       "    <tr>\n",
       "      <th>6</th>\n",
       "      <td>UgKW7+6kbhUCNtQLo6rGdCtNf5kJp3+wnAXvr3ez1qE</td>\n",
       "      <td>vb7CRl+k+/XS5/q+aJv6hXOQkr6br2UF0xETgL58ziE</td>\n",
       "      <td>2008-05-03 18:22:06</td>\n",
       "      <td>0101000020E610000050AA7D3A1E33F7BF397D3D5FB370...</td>\n",
       "    </tr>\n",
       "    <tr>\n",
       "      <th>7</th>\n",
       "      <td>gP6R2IN1GfX3SXHSMu4wLwa6GZkT6ukyCCiPdPrTEGI</td>\n",
       "      <td>vb7CRl+k+/XS5/q+aJv6hXOQkr6br2UF0xETgL58ziE</td>\n",
       "      <td>2008-05-03 18:21:13</td>\n",
       "      <td>0101000020E610000050AA7D3A1E33F7BF397D3D5FB370...</td>\n",
       "    </tr>\n",
       "    <tr>\n",
       "      <th>8</th>\n",
       "      <td>5y+xOCu9JvUSXkISwYoU5vFHEX6CPjdAT3Ex9axM6wI</td>\n",
       "      <td>vb7CRl+k+/XS5/q+aJv6hXOQkr6br2UF0xETgL58ziE</td>\n",
       "      <td>2008-05-03 18:14:18</td>\n",
       "      <td>0101000020E610000050AA7D3A1E33F7BF397D3D5FB370...</td>\n",
       "    </tr>\n",
       "    <tr>\n",
       "      <th>9</th>\n",
       "      <td>H0NmLpSoiZrEdT2dA3UzF4OZfECX4kQH1SbQw8BXrng</td>\n",
       "      <td>vb7CRl+k+/XS5/q+aJv6hXOQkr6br2UF0xETgL58ziE</td>\n",
       "      <td>2008-05-03 18:13:33</td>\n",
       "      <td>0101000020E610000050AA7D3A1E33F7BF397D3D5FB370...</td>\n",
       "    </tr>\n",
       "  </tbody>\n",
       "</table>\n",
       "</div>"
      ],
      "text/plain": [
       "                                     post_guid  \\\n",
       "0  k0CVR8YLJcX+txr2omtAqQRcSobKUU5NWc76XlZWG/4   \n",
       "1  lzCL/fdFUuGA7cCPOrsECZC/4LzpSxbH7khVAbXBqoA   \n",
       "2  a9n1ML9khGs1bVx4DwaHfgM1qxZqMwP2HOep8CiU+ME   \n",
       "3  vatbfVaVEOgUQcaNkJEiXbm1hBYB7TISWxddkCBTsW8   \n",
       "4  EfKlhwJQEaobcBm8SmH3VZ1h9X3+J4NtxZQdGYIF0Fs   \n",
       "5  Ki2CL+n2fRFU3vtfJz1+dJTyaPlmgmwDNNZZcvj+pII   \n",
       "6  UgKW7+6kbhUCNtQLo6rGdCtNf5kJp3+wnAXvr3ez1qE   \n",
       "7  gP6R2IN1GfX3SXHSMu4wLwa6GZkT6ukyCCiPdPrTEGI   \n",
       "8  5y+xOCu9JvUSXkISwYoU5vFHEX6CPjdAT3Ex9axM6wI   \n",
       "9  H0NmLpSoiZrEdT2dA3UzF4OZfECX4kQH1SbQw8BXrng   \n",
       "\n",
       "                                     user_guid    post_create_date  \\\n",
       "0  xXwaWu7h0F8LZp1ZqPbGxaijfYZ65U7omtnkf3F8hxs 2013-05-08 16:36:46   \n",
       "1  JZkKtw6Ds8qMDqM33z6jmqck4BwoQ4AIirdcy0fVGno 2010-04-30 16:24:53   \n",
       "2  JZkKtw6Ds8qMDqM33z6jmqck4BwoQ4AIirdcy0fVGno 2010-04-30 16:24:30   \n",
       "3  JZkKtw6Ds8qMDqM33z6jmqck4BwoQ4AIirdcy0fVGno 2010-04-30 16:23:53   \n",
       "4  63F6LbXI5lij45Tz0CLvC8ezEKBzQ5IkWNwq598CtB4 2014-04-07 14:47:08   \n",
       "5  vb7CRl+k+/XS5/q+aJv6hXOQkr6br2UF0xETgL58ziE 2008-05-03 18:22:06   \n",
       "6  vb7CRl+k+/XS5/q+aJv6hXOQkr6br2UF0xETgL58ziE 2008-05-03 18:22:06   \n",
       "7  vb7CRl+k+/XS5/q+aJv6hXOQkr6br2UF0xETgL58ziE 2008-05-03 18:21:13   \n",
       "8  vb7CRl+k+/XS5/q+aJv6hXOQkr6br2UF0xETgL58ziE 2008-05-03 18:14:18   \n",
       "9  vb7CRl+k+/XS5/q+aJv6hXOQkr6br2UF0xETgL58ziE 2008-05-03 18:13:33   \n",
       "\n",
       "                                         post_latlng  \n",
       "0  0101000020E610000035CF11F92EE5F7BF0FD253E410B1...  \n",
       "1  0101000020E61000003A4030478FDFF7BFF3E7DB82A5B0...  \n",
       "2  0101000020E61000003A4030478FDFF7BFF3E7DB82A5B0...  \n",
       "3  0101000020E61000003A4030478FDFF7BFF3E7DB82A5B0...  \n",
       "4  0101000020E6100000FB22A12DE7D2F7BF5053CBD6FAAA...  \n",
       "5  0101000020E610000050AA7D3A1E33F7BF397D3D5FB370...  \n",
       "6  0101000020E610000050AA7D3A1E33F7BF397D3D5FB370...  \n",
       "7  0101000020E610000050AA7D3A1E33F7BF397D3D5FB370...  \n",
       "8  0101000020E610000050AA7D3A1E33F7BF397D3D5FB370...  \n",
       "9  0101000020E610000050AA7D3A1E33F7BF397D3D5FB370...  "
      ]
     },
     "execution_count": 23,
     "metadata": {},
     "output_type": "execute_result"
    }
   ],
   "source": [
    "db_conn.query(f\"SELECT * FROM mviews.{raw_table_name} LIMIT 10;\")"
   ]
  },
  {
   "cell_type": "code",
   "execution_count": 24,
   "id": "1851b93d-822e-4d96-951d-9e3a9c07e568",
   "metadata": {},
   "outputs": [
    {
     "data": {
      "text/html": [
       "<div>\n",
       "<style scoped>\n",
       "    .dataframe tbody tr th:only-of-type {\n",
       "        vertical-align: middle;\n",
       "    }\n",
       "\n",
       "    .dataframe tbody tr th {\n",
       "        vertical-align: top;\n",
       "    }\n",
       "\n",
       "    .dataframe thead th {\n",
       "        text-align: right;\n",
       "    }\n",
       "</style>\n",
       "<table border=\"1\" class=\"dataframe\">\n",
       "  <thead>\n",
       "    <tr style=\"text-align: right;\">\n",
       "      <th></th>\n",
       "      <th>count</th>\n",
       "    </tr>\n",
       "  </thead>\n",
       "  <tbody>\n",
       "    <tr>\n",
       "      <th>0</th>\n",
       "      <td>100662</td>\n",
       "    </tr>\n",
       "  </tbody>\n",
       "</table>\n",
       "</div>"
      ],
      "text/plain": [
       "    count\n",
       "0  100662"
      ]
     },
     "execution_count": 24,
     "metadata": {},
     "output_type": "execute_result"
    }
   ],
   "source": [
    "db_conn.query(f\"SELECT count(*) FROM mviews.{raw_table_name};\")"
   ]
  },
  {
   "cell_type": "markdown",
   "id": "e489f731-3e0b-4199-b886-b32ed5d84839",
   "metadata": {},
   "source": [
    "Commit changes to `hlldb`"
   ]
  },
  {
   "cell_type": "code",
   "execution_count": 25,
   "id": "ab9c0912-46e6-447f-9816-56577afd44bb",
   "metadata": {
    "tags": []
   },
   "outputs": [],
   "source": [
    "db_connection_hll.commit()"
   ]
  },
  {
   "cell_type": "markdown",
   "id": "bb83c907-889c-465b-94ef-8bf76931e8dd",
   "metadata": {},
   "source": [
    "### Prepare conversion of raw data to hll"
   ]
  },
  {
   "cell_type": "markdown",
   "id": "cfab1794-8843-48d1-bd5c-4f25070b3bdd",
   "metadata": {},
   "source": [
    "**HyperLogLog parameters**\n",
    "\n",
    "The HyperLogLog extension for Postgres from [Citus](https://github.com/citusdata/postgresql-hll) that we're using here, contains several tweaks, to optimize performance, that can affect sensitivity of data.\n",
    "\n",
    "From a privacy perspective, for example, it is recommended to disable [explicit mode](https://github.com/citusdata/postgresql-hll/blob/master/REFERENCE.md#metadata-functions).\n",
    "\n",
    "**Explicit mode?** When explicit mode is active, full IDs will be stored for small sets. In our case, any coordinates frequented by few users (outliers) would store full user and post IDs.\n",
    "\n",
    "To disable explicit mode:"
   ]
  },
  {
   "cell_type": "code",
   "execution_count": 26,
   "id": "82c18f94-3fdd-4374-91a7-788efa147784",
   "metadata": {
    "tags": []
   },
   "outputs": [
    {
     "data": {
      "text/html": [
       "<div>\n",
       "<style scoped>\n",
       "    .dataframe tbody tr th:only-of-type {\n",
       "        vertical-align: middle;\n",
       "    }\n",
       "\n",
       "    .dataframe tbody tr th {\n",
       "        vertical-align: top;\n",
       "    }\n",
       "\n",
       "    .dataframe thead th {\n",
       "        text-align: right;\n",
       "    }\n",
       "</style>\n",
       "<table border=\"1\" class=\"dataframe\">\n",
       "  <thead>\n",
       "    <tr style=\"text-align: right;\">\n",
       "      <th></th>\n",
       "      <th>hll_set_defaults</th>\n",
       "    </tr>\n",
       "  </thead>\n",
       "  <tbody>\n",
       "    <tr>\n",
       "      <th>0</th>\n",
       "      <td>(11,5,-1,1)</td>\n",
       "    </tr>\n",
       "  </tbody>\n",
       "</table>\n",
       "</div>"
      ],
      "text/plain": [
       "  hll_set_defaults\n",
       "0      (11,5,-1,1)"
      ]
     },
     "execution_count": 26,
     "metadata": {},
     "output_type": "execute_result"
    }
   ],
   "source": [
    "db_conn_hll.query(\"SELECT hll_set_defaults(11, 5, 0, 1);\")"
   ]
  },
  {
   "cell_type": "markdown",
   "id": "10d74a31-c205-4f26-8407-31a1ea0ae1eb",
   "metadata": {},
   "source": [
    "### Aggregation step\n",
    "\n",
    "- Convert data to Hll\n",
    "- group by month, year\n",
    "- order by year, month"
   ]
  },
  {
   "cell_type": "code",
   "execution_count": 32,
   "id": "4c112ccd-e989-45a6-bbfc-d76e2ffa4845",
   "metadata": {},
   "outputs": [],
   "source": [
    "def materialized_view_hll(table_name_src: str, table_name_dest, schema: str = None, additional_cols: [str] = None) -> str:\n",
    "    \"\"\"Returns raw SQL for creating a materialized view with HLL aggregate\"\"\"\n",
    "    if not schema:\n",
    "        schema = 'mviews'\n",
    "    if additional_cols is None:\n",
    "        additional_cols = []\n",
    "    return f\"\"\"\n",
    "        DROP MATERIALIZED VIEW IF EXISTS {schema}.{table_name_dest};\n",
    "        \n",
    "        CREATE MATERIALIZED VIEW {schema}.{table_name_dest} AS\n",
    "            SELECT \n",
    "                EXTRACT(MONTH FROM post_create_date) AS \"month\",\n",
    "                EXTRACT(YEAR FROM post_create_date) AS \"year\",\n",
    "                hll_add_agg((hll_hash_text(post_guid))) AS \"post_hll\",\n",
    "                hll_add_agg((hll_hash_text(user_guid))) AS \"user_hll\"\n",
    "                {''.join([f\",{x}\" for x in additional_cols])}\n",
    "            FROM {schema}.{table_name_src}\n",
    "            GROUP BY year, month{''.join([f\",{x}\" for x in additional_cols if len(additional_cols) > 0])}\n",
    "            ORDER BY year ASC, month ASC;\n",
    "        \"\"\""
   ]
  },
  {
   "cell_type": "code",
   "execution_count": 33,
   "id": "17fdfffb-7530-4f6a-a004-4f59a38f3dea",
   "metadata": {},
   "outputs": [],
   "source": [
    "db_connection_hll.rollback()"
   ]
  },
  {
   "cell_type": "code",
   "execution_count": 34,
   "id": "351fdcd4-db11-469f-bc6b-24b0c0ad9c0e",
   "metadata": {
    "tags": []
   },
   "outputs": [
    {
     "name": "stdout",
     "output_type": "stream",
     "text": [
      "SELECT 271\n",
      "CPU times: user 0 ns, sys: 1.33 ms, total: 1.33 ms\n",
      "Wall time: 297 ms\n"
     ]
    }
   ],
   "source": [
    "%%time\n",
    "destination_table = \"flickr_cherries_hll\"\n",
    "origin_table = raw_table_name\n",
    "sql_query = materialized_view_hll(\n",
    "    table_name_src=origin_table, table_name_dest=destination_table)\n",
    "cur_hll.execute(sql_query)\n",
    "print(cur_hll.statusmessage)"
   ]
  },
  {
   "cell_type": "markdown",
   "id": "570c8d71-86f9-4d33-b4e6-ad4b0065497b",
   "metadata": {},
   "source": [
    "Test:"
   ]
  },
  {
   "cell_type": "code",
   "execution_count": 35,
   "id": "21105893-8d91-49e2-b08f-0b1684c7aeeb",
   "metadata": {
    "tags": []
   },
   "outputs": [
    {
     "data": {
      "text/html": [
       "<div>\n",
       "<style scoped>\n",
       "    .dataframe tbody tr th:only-of-type {\n",
       "        vertical-align: middle;\n",
       "    }\n",
       "\n",
       "    .dataframe tbody tr th {\n",
       "        vertical-align: top;\n",
       "    }\n",
       "\n",
       "    .dataframe thead th {\n",
       "        text-align: right;\n",
       "    }\n",
       "</style>\n",
       "<table border=\"1\" class=\"dataframe\">\n",
       "  <thead>\n",
       "    <tr style=\"text-align: right;\">\n",
       "      <th></th>\n",
       "      <th>month</th>\n",
       "      <th>year</th>\n",
       "      <th>post_hll</th>\n",
       "      <th>user_hll</th>\n",
       "    </tr>\n",
       "  </thead>\n",
       "  <tbody>\n",
       "    <tr>\n",
       "      <th>0</th>\n",
       "      <td>1.0</td>\n",
       "      <td>1910.0</td>\n",
       "      <td>\\x138b4089c1</td>\n",
       "      <td>\\x138b405fe1</td>\n",
       "    </tr>\n",
       "    <tr>\n",
       "      <th>1</th>\n",
       "      <td>5.0</td>\n",
       "      <td>1920.0</td>\n",
       "      <td>\\x138b407a01</td>\n",
       "      <td>\\x138b405fe1</td>\n",
       "    </tr>\n",
       "    <tr>\n",
       "      <th>2</th>\n",
       "      <td>4.0</td>\n",
       "      <td>1922.0</td>\n",
       "      <td>\\x138b40e6c1</td>\n",
       "      <td>\\x138b40e283</td>\n",
       "    </tr>\n",
       "    <tr>\n",
       "      <th>3</th>\n",
       "      <td>1.0</td>\n",
       "      <td>1947.0</td>\n",
       "      <td>\\x138b4074e2</td>\n",
       "      <td>\\x138b40ce81</td>\n",
       "    </tr>\n",
       "    <tr>\n",
       "      <th>4</th>\n",
       "      <td>1.0</td>\n",
       "      <td>1965.0</td>\n",
       "      <td>\\x138b408942</td>\n",
       "      <td>\\x138b407847</td>\n",
       "    </tr>\n",
       "    <tr>\n",
       "      <th>5</th>\n",
       "      <td>4.0</td>\n",
       "      <td>1965.0</td>\n",
       "      <td>\\x138b404fc5</td>\n",
       "      <td>\\x138b407381</td>\n",
       "    </tr>\n",
       "    <tr>\n",
       "      <th>6</th>\n",
       "      <td>5.0</td>\n",
       "      <td>1968.0</td>\n",
       "      <td>\\x138b407703</td>\n",
       "      <td>\\x138b4060e1</td>\n",
       "    </tr>\n",
       "    <tr>\n",
       "      <th>7</th>\n",
       "      <td>1.0</td>\n",
       "      <td>1970.0</td>\n",
       "      <td>\\x138b400323</td>\n",
       "      <td>\\x138b40c5a2</td>\n",
       "    </tr>\n",
       "    <tr>\n",
       "      <th>8</th>\n",
       "      <td>5.0</td>\n",
       "      <td>1970.0</td>\n",
       "      <td>\\x138b400b0271e2</td>\n",
       "      <td>\\x138b40dca7</td>\n",
       "    </tr>\n",
       "    <tr>\n",
       "      <th>9</th>\n",
       "      <td>3.0</td>\n",
       "      <td>1976.0</td>\n",
       "      <td>\\x138b4082e1</td>\n",
       "      <td>\\x138b407b02</td>\n",
       "    </tr>\n",
       "  </tbody>\n",
       "</table>\n",
       "</div>"
      ],
      "text/plain": [
       "   month    year          post_hll      user_hll\n",
       "0    1.0  1910.0      \\x138b4089c1  \\x138b405fe1\n",
       "1    5.0  1920.0      \\x138b407a01  \\x138b405fe1\n",
       "2    4.0  1922.0      \\x138b40e6c1  \\x138b40e283\n",
       "3    1.0  1947.0      \\x138b4074e2  \\x138b40ce81\n",
       "4    1.0  1965.0      \\x138b408942  \\x138b407847\n",
       "5    4.0  1965.0      \\x138b404fc5  \\x138b407381\n",
       "6    5.0  1968.0      \\x138b407703  \\x138b4060e1\n",
       "7    1.0  1970.0      \\x138b400323  \\x138b40c5a2\n",
       "8    5.0  1970.0  \\x138b400b0271e2  \\x138b40dca7\n",
       "9    3.0  1976.0      \\x138b4082e1  \\x138b407b02"
      ]
     },
     "execution_count": 35,
     "metadata": {},
     "output_type": "execute_result"
    }
   ],
   "source": [
    "db_conn.query(f\"SELECT * FROM mviews.{destination_table} LIMIT 10;\")"
   ]
  },
  {
   "cell_type": "code",
   "execution_count": 36,
   "id": "752fc92a-ed09-4153-8eb5-b720827487b3",
   "metadata": {
    "tags": []
   },
   "outputs": [],
   "source": [
    "db_connection_hll.commit()"
   ]
  },
  {
   "cell_type": "markdown",
   "id": "6c8152b1-dc23-4668-948d-974aa678aeaa",
   "metadata": {},
   "source": [
    "### Export data as CSV"
   ]
  },
  {
   "cell_type": "markdown",
   "id": "36e380b4-c421-4195-ae13-488e6a4e39c4",
   "metadata": {
    "tags": []
   },
   "source": [
    "Save hll data to CSV. The following records are available from table spatial.latlng:\n",
    "\n",
    "- year     - distinct year\n",
    "- month    - month\n",
    "- post_hll - approximate post guids stored as hll set\n",
    "- user_hll - approximate user guids stored as hll set"
   ]
  },
  {
   "cell_type": "code",
   "execution_count": 37,
   "id": "ebc21d9a-6fd3-496e-9963-914a61b750a0",
   "metadata": {
    "tags": []
   },
   "outputs": [],
   "source": [
    "sql_query = f\"\"\"\n",
    "    SELECT  year,\n",
    "            month,\n",
    "            post_hll,\n",
    "            user_hll\n",
    "    FROM mviews.{destination_table};\n",
    "    \"\"\"\n",
    "df = db_conn.query(sql_query)\n",
    "# use type int instead of float\n",
    "time_cols = [\"year\", \"month\"]\n",
    "# drop where time cols are invalid \n",
    "df.dropna(subset=time_cols, inplace=True)\n",
    "# turn float to int\n",
    "for col in time_cols:\n",
    "    df[col] = df[col].astype(int)\n",
    "# we can also remove any rows where the year is < 2007\n",
    "df.drop(df[df['year'] < 2007].index, inplace = True)"
   ]
  },
  {
   "cell_type": "code",
   "execution_count": 38,
   "id": "b07ba411-3ca1-4d38-ad0d-97d4bb3a9f7f",
   "metadata": {
    "tags": []
   },
   "outputs": [
    {
     "data": {
      "text/html": [
       "<div>\n",
       "<style scoped>\n",
       "    .dataframe tbody tr th:only-of-type {\n",
       "        vertical-align: middle;\n",
       "    }\n",
       "\n",
       "    .dataframe tbody tr th {\n",
       "        vertical-align: top;\n",
       "    }\n",
       "\n",
       "    .dataframe thead th {\n",
       "        text-align: right;\n",
       "    }\n",
       "</style>\n",
       "<table border=\"1\" class=\"dataframe\">\n",
       "  <thead>\n",
       "    <tr style=\"text-align: right;\">\n",
       "      <th></th>\n",
       "      <th>year</th>\n",
       "      <th>month</th>\n",
       "      <th>post_hll</th>\n",
       "      <th>user_hll</th>\n",
       "    </tr>\n",
       "  </thead>\n",
       "  <tbody>\n",
       "    <tr>\n",
       "      <th>83</th>\n",
       "      <td>2007</td>\n",
       "      <td>1</td>\n",
       "      <td>\\x138b400023038106e109820b210b41124115c116411b...</td>\n",
       "      <td>\\x138b400ea10f441ba5200128a12a623a233be15c4265...</td>\n",
       "    </tr>\n",
       "    <tr>\n",
       "      <th>84</th>\n",
       "      <td>2007</td>\n",
       "      <td>2</td>\n",
       "      <td>\\x138b4004a30ae22d612e83308241a14ea25021504253...</td>\n",
       "      <td>\\x138b4019812262246133413d423d8140a445635dc25f...</td>\n",
       "    </tr>\n",
       "    <tr>\n",
       "      <th>85</th>\n",
       "      <td>2007</td>\n",
       "      <td>3</td>\n",
       "      <td>\\x148b400040108c0100000100010040110c6000c00000...</td>\n",
       "      <td>\\x138b400327058206610a220aa30b860ba70cc10ce30f...</td>\n",
       "    </tr>\n",
       "    <tr>\n",
       "      <th>86</th>\n",
       "      <td>2007</td>\n",
       "      <td>4</td>\n",
       "      <td>\\x148b401046008c2008c02084441880008cc100820108...</td>\n",
       "      <td>\\x138b40000101610183030103a303e20482050305e106...</td>\n",
       "    </tr>\n",
       "    <tr>\n",
       "      <th>87</th>\n",
       "      <td>2007</td>\n",
       "      <td>5</td>\n",
       "      <td>\\x138b40010301e304c404e40546066209a10fa2114312...</td>\n",
       "      <td>\\x138b4000a3042106c115c1182319031a821d241e0121...</td>\n",
       "    </tr>\n",
       "  </tbody>\n",
       "</table>\n",
       "</div>"
      ],
      "text/plain": [
       "    year  month                                           post_hll  \\\n",
       "83  2007      1  \\x138b400023038106e109820b210b41124115c116411b...   \n",
       "84  2007      2  \\x138b4004a30ae22d612e83308241a14ea25021504253...   \n",
       "85  2007      3  \\x148b400040108c0100000100010040110c6000c00000...   \n",
       "86  2007      4  \\x148b401046008c2008c02084441880008cc100820108...   \n",
       "87  2007      5  \\x138b40010301e304c404e40546066209a10fa2114312...   \n",
       "\n",
       "                                             user_hll  \n",
       "83  \\x138b400ea10f441ba5200128a12a623a233be15c4265...  \n",
       "84  \\x138b4019812262246133413d423d8140a445635dc25f...  \n",
       "85  \\x138b400327058206610a220aa30b860ba70cc10ce30f...  \n",
       "86  \\x138b40000101610183030103a303e20482050305e106...  \n",
       "87  \\x138b4000a3042106c115c1182319031a821d241e0121...  "
      ]
     },
     "execution_count": 38,
     "metadata": {},
     "output_type": "execute_result"
    }
   ],
   "source": [
    "df.head()"
   ]
  },
  {
   "cell_type": "code",
   "execution_count": 39,
   "id": "247460fc-c08f-4c2c-9c61-13eb6935b160",
   "metadata": {
    "tags": []
   },
   "outputs": [],
   "source": [
    "usecols = [\"year\", \"month\", \"post_hll\", \"user_hll\"]\n",
    "df.to_csv(\n",
    "    OUTPUT / f\"{destination_table}.csv\",\n",
    "    mode='w', columns=usecols,\n",
    "    index=False, header=True)"
   ]
  },
  {
   "cell_type": "markdown",
   "id": "717780d3",
   "metadata": {},
   "source": [
    "## Create notebook HTML"
   ]
  },
  {
   "cell_type": "code",
   "execution_count": 68,
   "id": "78e4515f",
   "metadata": {
    "editable": true,
    "slideshow": {
     "slide_type": ""
    },
    "tags": []
   },
   "outputs": [],
   "source": [
    "!jupyter nbconvert --to html_toc \\\n",
    "    --output-dir=../resources/html/ ./00_raw_hll_conversion.ipynb \\\n",
    "    --template=../nbconvert.tpl \\\n",
    "    --ExtractOutputPreprocessor.enabled=False >&- 2>&-"
   ]
  },
  {
   "cell_type": "markdown",
   "id": "213dfe4a",
   "metadata": {
    "editable": true,
    "slideshow": {
     "slide_type": ""
    },
    "tags": []
   },
   "source": []
  }
 ],
 "metadata": {
  "kernelspec": {
   "display_name": "worker_env",
   "language": "python",
   "name": "worker_env"
  },
  "language_info": {
   "codemirror_mode": {
    "name": "ipython",
    "version": 3
   },
   "file_extension": ".py",
   "mimetype": "text/x-python",
   "name": "python",
   "nbconvert_exporter": "python",
   "pygments_lexer": "ipython3",
   "version": "3.9.15"
  }
 },
 "nbformat": 4,
 "nbformat_minor": 5
}
